{
 "cells": [
  {
   "cell_type": "markdown",
   "id": "4f133e6a",
   "metadata": {},
   "source": [
    "# JillyAtlanta Sales Analysis\n",
    "Dollars per PDF over time\n",
    "***"
   ]
  },
  {
   "cell_type": "code",
   "execution_count": 1,
   "id": "d24fba59",
   "metadata": {},
   "outputs": [],
   "source": [
    "import pandas as pd\n",
    "import numpy as np\n",
    "import glob\n",
    "from matplotlib import pyplot as plt"
   ]
  },
  {
   "cell_type": "code",
   "execution_count": 2,
   "id": "d898b16f",
   "metadata": {},
   "outputs": [],
   "source": [
    "fiels = glob.glob('./etsy/EtsySoldOrderItems/*.csv')\n",
    "df1 = pd.DataFrame()\n",
    "for fiel in fiels:\n",
    "    dfi = pd.read_csv(fiel)\n",
    "    df1 = pd.concat([df1, dfi])\n",
    "# df1.columns"
   ]
  },
  {
   "cell_type": "code",
   "execution_count": 3,
   "id": "acb64f2d",
   "metadata": {},
   "outputs": [],
   "source": [
    "et_items = df1[['Sale Date',\n",
    "           'Order ID', \n",
    "           'Item Name']].copy()\n",
    "et_items.columns = ['date', 'order_id', 'item_name']\n",
    "et_items['date'] = pd.to_datetime(et_items['date'])\n",
    "et_items.sort_values(by='date', inplace=True)\n",
    "# et_items.head()"
   ]
  },
  {
   "cell_type": "code",
   "execution_count": 4,
   "id": "cc1e67c4",
   "metadata": {},
   "outputs": [],
   "source": [
    "def is_pdf(x):\n",
    "    return 'pdf' in x.casefold()\n",
    "\n",
    "et_items['is_pdf'] = et_items.item_name.apply(is_pdf)"
   ]
  },
  {
   "cell_type": "code",
   "execution_count": 5,
   "id": "1067c913",
   "metadata": {},
   "outputs": [],
   "source": [
    "# et_items.head()\n",
    "# len(et_items)"
   ]
  },
  {
   "cell_type": "code",
   "execution_count": 6,
   "id": "dec3c965",
   "metadata": {},
   "outputs": [],
   "source": [
    "et_items.drop_duplicates(subset=['order_id'], inplace=True)\n",
    "#et_items.head(30)\n",
    "# len(et_items)"
   ]
  },
  {
   "cell_type": "code",
   "execution_count": 7,
   "id": "8cd6da19",
   "metadata": {},
   "outputs": [],
   "source": [
    "fiels = glob.glob('./etsy/EtsySales/*.csv')\n",
    "df2 = pd.DataFrame()\n",
    "for fiel in fiels:\n",
    "    dfi = pd.read_csv(fiel)\n",
    "    df2 = pd.concat([df2, dfi])\n",
    "# df2.columns"
   ]
  },
  {
   "cell_type": "code",
   "execution_count": 8,
   "id": "a7bd236d",
   "metadata": {},
   "outputs": [
    {
     "data": {
      "text/plain": [
       "12225"
      ]
     },
     "execution_count": 8,
     "metadata": {},
     "output_type": "execute_result"
    }
   ],
   "source": [
    "et_sales = df2[['Order Date',\n",
    "                'Order ID', \n",
    "                'Net Amount', \n",
    "                'Refund Amount']].copy()\n",
    "et_sales.columns = ['date', 'order_id', 'payment_amt', 'refund_amt']\n",
    "et_sales['date'] = pd.to_datetime(et_sales['date'])\n",
    "et_sales.sort_values(by='date', inplace=True)\n",
    "et_sales.head()\n",
    "len(et_sales)"
   ]
  },
  {
   "cell_type": "code",
   "execution_count": 9,
   "id": "7aebbe23",
   "metadata": {},
   "outputs": [
    {
     "data": {
      "text/plain": [
       "12225"
      ]
     },
     "execution_count": 9,
     "metadata": {},
     "output_type": "execute_result"
    }
   ],
   "source": [
    "et_merged = pd.merge(et_sales, et_items, on='order_id', how='left')\n",
    "et_merged.head(30)\n",
    "len(et_merged)"
   ]
  },
  {
   "cell_type": "code",
   "execution_count": 10,
   "id": "1cc95957",
   "metadata": {},
   "outputs": [
    {
     "name": "stdout",
     "output_type": "stream",
     "text": [
      "12225\n",
      "11915\n"
     ]
    }
   ],
   "source": [
    "print(len(et_merged))\n",
    "et_merged = et_merged[et_merged.is_pdf == True]\n",
    "print(len(et_merged))\n",
    "et_merged['net_amt'] = et_merged['payment_amt'] - et_merged['refund_amt']\n",
    "#et_merged.head()"
   ]
  },
  {
   "cell_type": "code",
   "execution_count": 11,
   "id": "b358f6f1",
   "metadata": {},
   "outputs": [],
   "source": [
    "#listings = et_merged.item_name.drop_duplicates()\n",
    "#len(listings)"
   ]
  },
  {
   "cell_type": "code",
   "execution_count": 12,
   "id": "b1e6e8b9",
   "metadata": {},
   "outputs": [],
   "source": [
    "listings = pd.read_csv('listings.csv')\n",
    "listings_dict = dict(zip(listings.listing.values, listings.item.values))"
   ]
  },
  {
   "cell_type": "code",
   "execution_count": 13,
   "id": "0b159b94",
   "metadata": {},
   "outputs": [
    {
     "data": {
      "text/html": [
       "<div>\n",
       "<style scoped>\n",
       "    .dataframe tbody tr th:only-of-type {\n",
       "        vertical-align: middle;\n",
       "    }\n",
       "\n",
       "    .dataframe tbody tr th {\n",
       "        vertical-align: top;\n",
       "    }\n",
       "\n",
       "    .dataframe thead th {\n",
       "        text-align: right;\n",
       "    }\n",
       "</style>\n",
       "<table border=\"1\" class=\"dataframe\">\n",
       "  <thead>\n",
       "    <tr style=\"text-align: right;\">\n",
       "      <th></th>\n",
       "      <th>date</th>\n",
       "      <th>item</th>\n",
       "      <th>net</th>\n",
       "    </tr>\n",
       "  </thead>\n",
       "  <tbody>\n",
       "    <tr>\n",
       "      <th>11</th>\n",
       "      <td>2014-12-06</td>\n",
       "      <td>gathered_skirt</td>\n",
       "      <td>8.48</td>\n",
       "    </tr>\n",
       "    <tr>\n",
       "      <th>16</th>\n",
       "      <td>2015-02-07</td>\n",
       "      <td>criss_cross_cape</td>\n",
       "      <td>8.48</td>\n",
       "    </tr>\n",
       "    <tr>\n",
       "      <th>19</th>\n",
       "      <td>2015-02-19</td>\n",
       "      <td>criss_cross_cape</td>\n",
       "      <td>8.48</td>\n",
       "    </tr>\n",
       "    <tr>\n",
       "      <th>23</th>\n",
       "      <td>2015-03-02</td>\n",
       "      <td>criss_cross_cape</td>\n",
       "      <td>8.48</td>\n",
       "    </tr>\n",
       "    <tr>\n",
       "      <th>25</th>\n",
       "      <td>2015-03-06</td>\n",
       "      <td>lottie_bonnet</td>\n",
       "      <td>5.57</td>\n",
       "    </tr>\n",
       "  </tbody>\n",
       "</table>\n",
       "</div>"
      ],
      "text/plain": [
       "         date              item   net\n",
       "11 2014-12-06    gathered_skirt  8.48\n",
       "16 2015-02-07  criss_cross_cape  8.48\n",
       "19 2015-02-19  criss_cross_cape  8.48\n",
       "23 2015-03-02  criss_cross_cape  8.48\n",
       "25 2015-03-06     lottie_bonnet  5.57"
      ]
     },
     "execution_count": 13,
     "metadata": {},
     "output_type": "execute_result"
    }
   ],
   "source": [
    "et_merged['item'] = et_merged['item_name'].map(listings_dict)\n",
    "et = et_merged[['date_x', 'item', 'net_amt']].copy()\n",
    "et.columns = ['date', 'item', 'net']\n",
    "et.head()"
   ]
  },
  {
   "cell_type": "code",
   "execution_count": 14,
   "id": "a2b2f52a",
   "metadata": {},
   "outputs": [
    {
     "name": "stdout",
     "output_type": "stream",
     "text": [
      "[1, 2, 2, 2, 3, 3, 3, 3, 3, 3]\n",
      "[8.48, 16.96, 25.44, 33.92, 39.49, 45.06, 50.63, 56.2, 64.68, 73.16000000000001]\n"
     ]
    }
   ],
   "source": [
    "patterns_set = set()\n",
    "patterns = list(et.item.values)\n",
    "nets = list(et.net.values)\n",
    "\n",
    "num_patterns = []\n",
    "pattern_Count = 0\n",
    "for pattern in patterns:\n",
    "    if pattern not in patterns_set:\n",
    "        patterns_set.add(pattern)\n",
    "        pattern_Count += 1\n",
    "    num_patterns.append(pattern_Count)\n",
    "\n",
    "net_total = []\n",
    "net_sum = 0\n",
    "for net in nets:\n",
    "    net_sum += net\n",
    "    net_total.append(net_sum)\n",
    "\n",
    "print(num_patterns[:10])\n",
    "print(net_total[:10])\n",
    "\n",
    "doll_per_patt = np.array(net_total) / np.array(num_patterns)"
   ]
  },
  {
   "cell_type": "code",
   "execution_count": 15,
   "id": "726bbd4f",
   "metadata": {},
   "outputs": [
    {
     "data": {
      "text/html": [
       "<div>\n",
       "<style scoped>\n",
       "    .dataframe tbody tr th:only-of-type {\n",
       "        vertical-align: middle;\n",
       "    }\n",
       "\n",
       "    .dataframe tbody tr th {\n",
       "        vertical-align: top;\n",
       "    }\n",
       "\n",
       "    .dataframe thead th {\n",
       "        text-align: right;\n",
       "    }\n",
       "</style>\n",
       "<table border=\"1\" class=\"dataframe\">\n",
       "  <thead>\n",
       "    <tr style=\"text-align: right;\">\n",
       "      <th></th>\n",
       "      <th>date</th>\n",
       "      <th>item</th>\n",
       "      <th>net</th>\n",
       "      <th>num_patterns</th>\n",
       "      <th>net_sum</th>\n",
       "      <th>dollars_per_pattern</th>\n",
       "    </tr>\n",
       "  </thead>\n",
       "  <tbody>\n",
       "    <tr>\n",
       "      <th>12220</th>\n",
       "      <td>2022-03-09</td>\n",
       "      <td>angelica</td>\n",
       "      <td>8.48</td>\n",
       "      <td>44</td>\n",
       "      <td>100795.69</td>\n",
       "      <td>2290.811136</td>\n",
       "    </tr>\n",
       "    <tr>\n",
       "      <th>12221</th>\n",
       "      <td>2022-03-09</td>\n",
       "      <td>marlow</td>\n",
       "      <td>8.48</td>\n",
       "      <td>44</td>\n",
       "      <td>100804.17</td>\n",
       "      <td>2291.003864</td>\n",
       "    </tr>\n",
       "    <tr>\n",
       "      <th>12222</th>\n",
       "      <td>2022-03-09</td>\n",
       "      <td>melbourne</td>\n",
       "      <td>8.43</td>\n",
       "      <td>44</td>\n",
       "      <td>100812.60</td>\n",
       "      <td>2291.195455</td>\n",
       "    </tr>\n",
       "    <tr>\n",
       "      <th>12223</th>\n",
       "      <td>2022-03-09</td>\n",
       "      <td>laurel</td>\n",
       "      <td>17.17</td>\n",
       "      <td>44</td>\n",
       "      <td>100829.77</td>\n",
       "      <td>2291.585682</td>\n",
       "    </tr>\n",
       "    <tr>\n",
       "      <th>12224</th>\n",
       "      <td>2022-03-10</td>\n",
       "      <td>hillary</td>\n",
       "      <td>7.51</td>\n",
       "      <td>44</td>\n",
       "      <td>100837.28</td>\n",
       "      <td>2291.756364</td>\n",
       "    </tr>\n",
       "  </tbody>\n",
       "</table>\n",
       "</div>"
      ],
      "text/plain": [
       "            date       item    net  num_patterns    net_sum  \\\n",
       "12220 2022-03-09   angelica   8.48            44  100795.69   \n",
       "12221 2022-03-09     marlow   8.48            44  100804.17   \n",
       "12222 2022-03-09  melbourne   8.43            44  100812.60   \n",
       "12223 2022-03-09     laurel  17.17            44  100829.77   \n",
       "12224 2022-03-10    hillary   7.51            44  100837.28   \n",
       "\n",
       "       dollars_per_pattern  \n",
       "12220          2290.811136  \n",
       "12221          2291.003864  \n",
       "12222          2291.195455  \n",
       "12223          2291.585682  \n",
       "12224          2291.756364  "
      ]
     },
     "execution_count": 15,
     "metadata": {},
     "output_type": "execute_result"
    }
   ],
   "source": [
    "et['num_patterns'] = num_patterns\n",
    "et['net_sum'] = net_total\n",
    "et['dollars_per_pattern'] = doll_per_patt\n",
    "et.tail()"
   ]
  },
  {
   "cell_type": "code",
   "execution_count": 16,
   "id": "6c94c155",
   "metadata": {},
   "outputs": [
    {
     "data": {
      "text/plain": [
       "Text(0.5, 1.0, 'Dollars per Pattern over Time')"
      ]
     },
     "execution_count": 16,
     "metadata": {},
     "output_type": "execute_result"
    },
    {
     "data": {
      "image/png": "[encoded data removed]",
      "text/plain": [
       "<Figure size 432x288 with 1 Axes>"
      ]
     },
     "metadata": {
      "needs_background": "light"
     },
     "output_type": "display_data"
    }
   ],
   "source": [
    "plt.plot(et.date, et.dollars_per_pattern)\n",
    "plt.xlabel('Year')\n",
    "plt.ylabel('Dollars per Pattern')\n",
    "plt.title('Dollars per Pattern over Time')"
   ]
  },
  {
   "cell_type": "code",
   "execution_count": 17,
   "id": "397bf680",
   "metadata": {},
   "outputs": [
    {
     "data": {
      "text/html": [
       "<div>\n",
       "<style scoped>\n",
       "    .dataframe tbody tr th:only-of-type {\n",
       "        vertical-align: middle;\n",
       "    }\n",
       "\n",
       "    .dataframe tbody tr th {\n",
       "        vertical-align: top;\n",
       "    }\n",
       "\n",
       "    .dataframe thead th {\n",
       "        text-align: right;\n",
       "    }\n",
       "</style>\n",
       "<table border=\"1\" class=\"dataframe\">\n",
       "  <thead>\n",
       "    <tr style=\"text-align: right;\">\n",
       "      <th></th>\n",
       "      <th>day</th>\n",
       "      <th>product_title</th>\n",
       "      <th>orders</th>\n",
       "      <th>gross_sales</th>\n",
       "      <th>discounts</th>\n",
       "      <th>returns</th>\n",
       "      <th>net_sales</th>\n",
       "      <th>total_sales</th>\n",
       "    </tr>\n",
       "  </thead>\n",
       "  <tbody>\n",
       "    <tr>\n",
       "      <th>0</th>\n",
       "      <td>2021-12-21</td>\n",
       "      <td>Lola Blouse</td>\n",
       "      <td>1</td>\n",
       "      <td>9.0</td>\n",
       "      <td>0.0</td>\n",
       "      <td>0.0</td>\n",
       "      <td>9.0</td>\n",
       "      <td>9.0</td>\n",
       "    </tr>\n",
       "    <tr>\n",
       "      <th>1</th>\n",
       "      <td>2021-12-21</td>\n",
       "      <td>Hastings Vest</td>\n",
       "      <td>1</td>\n",
       "      <td>9.0</td>\n",
       "      <td>0.0</td>\n",
       "      <td>0.0</td>\n",
       "      <td>9.0</td>\n",
       "      <td>9.0</td>\n",
       "    </tr>\n",
       "    <tr>\n",
       "      <th>2</th>\n",
       "      <td>2021-12-21</td>\n",
       "      <td>Agatha Top + Dress</td>\n",
       "      <td>1</td>\n",
       "      <td>9.0</td>\n",
       "      <td>0.0</td>\n",
       "      <td>0.0</td>\n",
       "      <td>9.0</td>\n",
       "      <td>9.0</td>\n",
       "    </tr>\n",
       "    <tr>\n",
       "      <th>3</th>\n",
       "      <td>2021-12-21</td>\n",
       "      <td>Cora Blouse</td>\n",
       "      <td>1</td>\n",
       "      <td>9.0</td>\n",
       "      <td>0.0</td>\n",
       "      <td>0.0</td>\n",
       "      <td>9.0</td>\n",
       "      <td>9.0</td>\n",
       "    </tr>\n",
       "    <tr>\n",
       "      <th>4</th>\n",
       "      <td>2021-12-21</td>\n",
       "      <td>Melbourne Romper</td>\n",
       "      <td>1</td>\n",
       "      <td>9.0</td>\n",
       "      <td>0.0</td>\n",
       "      <td>0.0</td>\n",
       "      <td>9.0</td>\n",
       "      <td>9.0</td>\n",
       "    </tr>\n",
       "  </tbody>\n",
       "</table>\n",
       "</div>"
      ],
      "text/plain": [
       "          day       product_title  orders  gross_sales  discounts  returns  \\\n",
       "0  2021-12-21         Lola Blouse       1          9.0        0.0      0.0   \n",
       "1  2021-12-21       Hastings Vest       1          9.0        0.0      0.0   \n",
       "2  2021-12-21  Agatha Top + Dress       1          9.0        0.0      0.0   \n",
       "3  2021-12-21         Cora Blouse       1          9.0        0.0      0.0   \n",
       "4  2021-12-21    Melbourne Romper       1          9.0        0.0      0.0   \n",
       "\n",
       "   net_sales  total_sales  \n",
       "0        9.0          9.0  \n",
       "1        9.0          9.0  \n",
       "2        9.0          9.0  \n",
       "3        9.0          9.0  \n",
       "4        9.0          9.0  "
      ]
     },
     "execution_count": 17,
     "metadata": {},
     "output_type": "execute_result"
    }
   ],
   "source": [
    "df3 = pd.read_csv('./shopify/sales.csv')\n",
    "# Get rid of dates that have no sales\n",
    "df3 = df3.dropna(axis=0)\n",
    "df3.head()"
   ]
  },
  {
   "cell_type": "markdown",
   "id": "78dc4e6c",
   "metadata": {},
   "source": [
    "Make 'item' column for shopify df based on names from etsy df."
   ]
  },
  {
   "cell_type": "code",
   "execution_count": 18,
   "id": "035081c3",
   "metadata": {},
   "outputs": [],
   "source": [
    "patterns = df3.product_title.unique()\n",
    "sh_patt_dict = {}\n",
    "for pattern in patterns:\n",
    "    x = pattern.lower().split()\n",
    "    pattp = x[0]\n",
    "    for i in range(1, len(x)):\n",
    "        if pattp in patterns_set:\n",
    "            break\n",
    "        else:\n",
    "            pattp += ('_' + x[i])\n",
    "    #print(pattp)\n",
    "    sh_patt_dict[pattern] = pattp"
   ]
  },
  {
   "cell_type": "code",
   "execution_count": 19,
   "id": "25096ebb",
   "metadata": {},
   "outputs": [],
   "source": [
    "#sh_patt_dict"
   ]
  },
  {
   "cell_type": "code",
   "execution_count": 20,
   "id": "bd7cfe85",
   "metadata": {},
   "outputs": [
    {
     "data": {
      "text/html": [
       "<div>\n",
       "<style scoped>\n",
       "    .dataframe tbody tr th:only-of-type {\n",
       "        vertical-align: middle;\n",
       "    }\n",
       "\n",
       "    .dataframe tbody tr th {\n",
       "        vertical-align: top;\n",
       "    }\n",
       "\n",
       "    .dataframe thead th {\n",
       "        text-align: right;\n",
       "    }\n",
       "</style>\n",
       "<table border=\"1\" class=\"dataframe\">\n",
       "  <thead>\n",
       "    <tr style=\"text-align: right;\">\n",
       "      <th></th>\n",
       "      <th>index</th>\n",
       "      <th>day</th>\n",
       "      <th>product_title</th>\n",
       "      <th>orders</th>\n",
       "      <th>gross_sales</th>\n",
       "      <th>discounts</th>\n",
       "      <th>returns</th>\n",
       "      <th>net_sales</th>\n",
       "      <th>total_sales</th>\n",
       "      <th>item</th>\n",
       "    </tr>\n",
       "  </thead>\n",
       "  <tbody>\n",
       "    <tr>\n",
       "      <th>0</th>\n",
       "      <td>0</td>\n",
       "      <td>2021-12-21</td>\n",
       "      <td>Lola Blouse</td>\n",
       "      <td>1</td>\n",
       "      <td>9.0</td>\n",
       "      <td>0.0</td>\n",
       "      <td>0.0</td>\n",
       "      <td>9.0</td>\n",
       "      <td>9.0</td>\n",
       "      <td>lola</td>\n",
       "    </tr>\n",
       "    <tr>\n",
       "      <th>1</th>\n",
       "      <td>1</td>\n",
       "      <td>2021-12-21</td>\n",
       "      <td>Hastings Vest</td>\n",
       "      <td>1</td>\n",
       "      <td>9.0</td>\n",
       "      <td>0.0</td>\n",
       "      <td>0.0</td>\n",
       "      <td>9.0</td>\n",
       "      <td>9.0</td>\n",
       "      <td>hastings_vest</td>\n",
       "    </tr>\n",
       "    <tr>\n",
       "      <th>2</th>\n",
       "      <td>2</td>\n",
       "      <td>2021-12-21</td>\n",
       "      <td>Agatha Top + Dress</td>\n",
       "      <td>1</td>\n",
       "      <td>9.0</td>\n",
       "      <td>0.0</td>\n",
       "      <td>0.0</td>\n",
       "      <td>9.0</td>\n",
       "      <td>9.0</td>\n",
       "      <td>agatha</td>\n",
       "    </tr>\n",
       "    <tr>\n",
       "      <th>3</th>\n",
       "      <td>3</td>\n",
       "      <td>2021-12-21</td>\n",
       "      <td>Cora Blouse</td>\n",
       "      <td>1</td>\n",
       "      <td>9.0</td>\n",
       "      <td>0.0</td>\n",
       "      <td>0.0</td>\n",
       "      <td>9.0</td>\n",
       "      <td>9.0</td>\n",
       "      <td>cora</td>\n",
       "    </tr>\n",
       "    <tr>\n",
       "      <th>4</th>\n",
       "      <td>4</td>\n",
       "      <td>2021-12-21</td>\n",
       "      <td>Melbourne Romper</td>\n",
       "      <td>1</td>\n",
       "      <td>9.0</td>\n",
       "      <td>0.0</td>\n",
       "      <td>0.0</td>\n",
       "      <td>9.0</td>\n",
       "      <td>9.0</td>\n",
       "      <td>melbourne</td>\n",
       "    </tr>\n",
       "  </tbody>\n",
       "</table>\n",
       "</div>"
      ],
      "text/plain": [
       "   index         day       product_title  orders  gross_sales  discounts  \\\n",
       "0      0  2021-12-21         Lola Blouse       1          9.0        0.0   \n",
       "1      1  2021-12-21       Hastings Vest       1          9.0        0.0   \n",
       "2      2  2021-12-21  Agatha Top + Dress       1          9.0        0.0   \n",
       "3      3  2021-12-21         Cora Blouse       1          9.0        0.0   \n",
       "4      4  2021-12-21    Melbourne Romper       1          9.0        0.0   \n",
       "\n",
       "   returns  net_sales  total_sales           item  \n",
       "0      0.0        9.0          9.0           lola  \n",
       "1      0.0        9.0          9.0  hastings_vest  \n",
       "2      0.0        9.0          9.0         agatha  \n",
       "3      0.0        9.0          9.0           cora  \n",
       "4      0.0        9.0          9.0      melbourne  "
      ]
     },
     "execution_count": 20,
     "metadata": {},
     "output_type": "execute_result"
    }
   ],
   "source": [
    "df3['item'] = df3['product_title'].map(sh_patt_dict)\n",
    "df3.reset_index(inplace=True)\n",
    "df3.head()"
   ]
  },
  {
   "cell_type": "code",
   "execution_count": 21,
   "id": "2c538a38",
   "metadata": {},
   "outputs": [],
   "source": [
    "sh = df3[['day', 'item', 'net_sales']].copy()\n",
    "sh.columns = ['date', 'item', 'net']\n",
    "sh['date'] = pd.to_datetime(sh['date'])"
   ]
  },
  {
   "cell_type": "code",
   "execution_count": 22,
   "id": "6b152aee",
   "metadata": {},
   "outputs": [
    {
     "data": {
      "text/html": [
       "<div>\n",
       "<style scoped>\n",
       "    .dataframe tbody tr th:only-of-type {\n",
       "        vertical-align: middle;\n",
       "    }\n",
       "\n",
       "    .dataframe tbody tr th {\n",
       "        vertical-align: top;\n",
       "    }\n",
       "\n",
       "    .dataframe thead th {\n",
       "        text-align: right;\n",
       "    }\n",
       "</style>\n",
       "<table border=\"1\" class=\"dataframe\">\n",
       "  <thead>\n",
       "    <tr style=\"text-align: right;\">\n",
       "      <th></th>\n",
       "      <th>date</th>\n",
       "      <th>item</th>\n",
       "      <th>net</th>\n",
       "    </tr>\n",
       "  </thead>\n",
       "  <tbody>\n",
       "    <tr>\n",
       "      <th>0</th>\n",
       "      <td>2021-12-21</td>\n",
       "      <td>lola</td>\n",
       "      <td>9.0</td>\n",
       "    </tr>\n",
       "    <tr>\n",
       "      <th>1</th>\n",
       "      <td>2021-12-21</td>\n",
       "      <td>hastings_vest</td>\n",
       "      <td>9.0</td>\n",
       "    </tr>\n",
       "    <tr>\n",
       "      <th>2</th>\n",
       "      <td>2021-12-21</td>\n",
       "      <td>agatha</td>\n",
       "      <td>9.0</td>\n",
       "    </tr>\n",
       "    <tr>\n",
       "      <th>3</th>\n",
       "      <td>2021-12-21</td>\n",
       "      <td>cora</td>\n",
       "      <td>9.0</td>\n",
       "    </tr>\n",
       "    <tr>\n",
       "      <th>4</th>\n",
       "      <td>2021-12-21</td>\n",
       "      <td>melbourne</td>\n",
       "      <td>9.0</td>\n",
       "    </tr>\n",
       "  </tbody>\n",
       "</table>\n",
       "</div>"
      ],
      "text/plain": [
       "        date           item  net\n",
       "0 2021-12-21           lola  9.0\n",
       "1 2021-12-21  hastings_vest  9.0\n",
       "2 2021-12-21         agatha  9.0\n",
       "3 2021-12-21           cora  9.0\n",
       "4 2021-12-21      melbourne  9.0"
      ]
     },
     "execution_count": 22,
     "metadata": {},
     "output_type": "execute_result"
    }
   ],
   "source": [
    "sh.head()"
   ]
  },
  {
   "cell_type": "code",
   "execution_count": 23,
   "id": "a5816e53",
   "metadata": {},
   "outputs": [
    {
     "name": "stdout",
     "output_type": "stream",
     "text": [
      "11915\n",
      "1202\n"
     ]
    }
   ],
   "source": [
    "print(len(et))\n",
    "print(len(sh))\n",
    "et0 = et[['date', 'item', 'net']]\n",
    "ja = pd.concat([et0, sh], ignore_index=True)\n",
    "ja.sort_values(by=['date'], inplace=True)\n",
    "ja.to_csv(r'x.csv')"
   ]
  },
  {
   "cell_type": "code",
   "execution_count": 24,
   "id": "1f99d33e",
   "metadata": {},
   "outputs": [
    {
     "name": "stdout",
     "output_type": "stream",
     "text": [
      "[1, 2, 2, 2, 3, 3, 3, 3, 3, 3]\n",
      "[8.48, 16.96, 25.44, 33.92, 39.49, 45.06, 50.63, 56.2, 64.68, 73.16000000000001]\n"
     ]
    }
   ],
   "source": [
    "patterns_set = set()\n",
    "patterns = list(ja.item.values)\n",
    "nets = list(ja.net.values)\n",
    "\n",
    "num_patterns = []\n",
    "pattern_Count = 0\n",
    "for pattern in patterns:\n",
    "    if pattern not in patterns_set:\n",
    "        patterns_set.add(pattern)\n",
    "        pattern_Count += 1\n",
    "    num_patterns.append(pattern_Count)\n",
    "\n",
    "net_total = []\n",
    "net_sum = 0\n",
    "for net in nets:\n",
    "    net_sum += net\n",
    "    net_total.append(net_sum)\n",
    "\n",
    "print(num_patterns[:10])\n",
    "print(net_total[:10])\n",
    "\n",
    "doll_per_patt = np.array(net_total) / np.array(num_patterns)"
   ]
  },
  {
   "cell_type": "code",
   "execution_count": 25,
   "id": "65684b2e",
   "metadata": {},
   "outputs": [
    {
     "data": {
      "text/html": [
       "<div>\n",
       "<style scoped>\n",
       "    .dataframe tbody tr th:only-of-type {\n",
       "        vertical-align: middle;\n",
       "    }\n",
       "\n",
       "    .dataframe tbody tr th {\n",
       "        vertical-align: top;\n",
       "    }\n",
       "\n",
       "    .dataframe thead th {\n",
       "        text-align: right;\n",
       "    }\n",
       "</style>\n",
       "<table border=\"1\" class=\"dataframe\">\n",
       "  <thead>\n",
       "    <tr style=\"text-align: right;\">\n",
       "      <th></th>\n",
       "      <th>date</th>\n",
       "      <th>item</th>\n",
       "      <th>net</th>\n",
       "      <th>num_patterns</th>\n",
       "      <th>net_sum</th>\n",
       "      <th>dollars_per_pattern</th>\n",
       "    </tr>\n",
       "  </thead>\n",
       "  <tbody>\n",
       "    <tr>\n",
       "      <th>11914</th>\n",
       "      <td>2022-03-10</td>\n",
       "      <td>hillary</td>\n",
       "      <td>7.51</td>\n",
       "      <td>46</td>\n",
       "      <td>112129.4</td>\n",
       "      <td>2437.595652</td>\n",
       "    </tr>\n",
       "    <tr>\n",
       "      <th>13072</th>\n",
       "      <td>2022-03-10</td>\n",
       "      <td>duchess</td>\n",
       "      <td>9.00</td>\n",
       "      <td>46</td>\n",
       "      <td>112138.4</td>\n",
       "      <td>2437.791304</td>\n",
       "    </tr>\n",
       "    <tr>\n",
       "      <th>13073</th>\n",
       "      <td>2022-03-10</td>\n",
       "      <td>camden</td>\n",
       "      <td>9.00</td>\n",
       "      <td>46</td>\n",
       "      <td>112147.4</td>\n",
       "      <td>2437.986957</td>\n",
       "    </tr>\n",
       "    <tr>\n",
       "      <th>12049</th>\n",
       "      <td>2022-03-11</td>\n",
       "      <td>riviera_cardigan_-_knit</td>\n",
       "      <td>9.00</td>\n",
       "      <td>46</td>\n",
       "      <td>112156.4</td>\n",
       "      <td>2438.182609</td>\n",
       "    </tr>\n",
       "    <tr>\n",
       "      <th>12048</th>\n",
       "      <td>2022-03-11</td>\n",
       "      <td>birdie</td>\n",
       "      <td>10.00</td>\n",
       "      <td>46</td>\n",
       "      <td>112166.4</td>\n",
       "      <td>2438.400000</td>\n",
       "    </tr>\n",
       "  </tbody>\n",
       "</table>\n",
       "</div>"
      ],
      "text/plain": [
       "            date                     item    net  num_patterns   net_sum  \\\n",
       "11914 2022-03-10                  hillary   7.51            46  112129.4   \n",
       "13072 2022-03-10                  duchess   9.00            46  112138.4   \n",
       "13073 2022-03-10                   camden   9.00            46  112147.4   \n",
       "12049 2022-03-11  riviera_cardigan_-_knit   9.00            46  112156.4   \n",
       "12048 2022-03-11                   birdie  10.00            46  112166.4   \n",
       "\n",
       "       dollars_per_pattern  \n",
       "11914          2437.595652  \n",
       "13072          2437.791304  \n",
       "13073          2437.986957  \n",
       "12049          2438.182609  \n",
       "12048          2438.400000  "
      ]
     },
     "execution_count": 25,
     "metadata": {},
     "output_type": "execute_result"
    }
   ],
   "source": [
    "ja['num_patterns'] = num_patterns\n",
    "ja['net_sum'] = net_total\n",
    "ja['dollars_per_pattern'] = doll_per_patt\n",
    "ja.tail()"
   ]
  },
  {
   "cell_type": "code",
   "execution_count": 26,
   "id": "5fc2ac5f",
   "metadata": {},
   "outputs": [
    {
     "data": {
      "text/plain": [
       "Text(0.5, 1.0, 'Dollars per Pattern over Time')"
      ]
     },
     "execution_count": 26,
     "metadata": {},
     "output_type": "execute_result"
    },
    {
     "data": {
      "image/png": "[encoded data removed]",
      "text/plain": [
       "<Figure size 432x288 with 1 Axes>"
      ]
     },
     "metadata": {
      "needs_background": "light"
     },
     "output_type": "display_data"
    }
   ],
   "source": [
    "plt.plot(ja.date, ja.dollars_per_pattern)\n",
    "plt.xlabel('Year')\n",
    "plt.ylabel('Dollars per Pattern')\n",
    "plt.title('Dollars per Pattern over Time')"
   ]
  },
  {
   "cell_type": "code",
   "execution_count": null,
   "id": "d2c4e4a5",
   "metadata": {},
   "outputs": [],
   "source": []
  },
  {
   "cell_type": "code",
   "execution_count": null,
   "id": "c04f3ae9",
   "metadata": {},
   "outputs": [],
   "source": []
  }
 ],
 "metadata": {
  "kernelspec": {
   "display_name": "Python 3 (ipykernel)",
   "language": "python",
   "name": "python3"
  },
  "language_info": {
   "codemirror_mode": {
    "name": "ipython",
    "version": 3
   },
   "file_extension": ".py",
   "mimetype": "text/x-python",
   "name": "python",
   "nbconvert_exporter": "python",
   "pygments_lexer": "ipython3",
   "version": "3.9.9"
  }
 },
 "nbformat": 4,
 "nbformat_minor": 5
}
