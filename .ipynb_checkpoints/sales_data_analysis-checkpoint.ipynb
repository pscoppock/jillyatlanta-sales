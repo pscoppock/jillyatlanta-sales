{
 "cells": [
  {
   "cell_type": "markdown",
   "id": "d1090d68",
   "metadata": {},
   "source": [
    "# Analysis of JillyAtlanta Orders"
   ]
  },
  {
   "cell_type": "code",
   "execution_count": 1,
   "id": "f1adaf02",
   "metadata": {},
   "outputs": [],
   "source": [
    "import pandas as pd\n",
    "import glob"
   ]
  },
  {
   "cell_type": "markdown",
   "id": "5748dd6d",
   "metadata": {},
   "source": [
    "## Get order data from Etsy"
   ]
  },
  {
   "cell_type": "code",
   "execution_count": 2,
   "id": "c6cba27c",
   "metadata": {},
   "outputs": [],
   "source": [
    "df = pd.DataFrame()\n",
    "fiels = glob.glob('./etsy/EtsySoldOrderItems/*')\n",
    "for fiel in fiels:\n",
    "    dfi = pd.read_csv(fiel, index_col=0)\n",
    "    df = pd.concat([df, dfi])  \n",
    "df.index = pd.to_datetime(df.index)\n",
    "df.sort_index(inplace=True)"
   ]
  },
  {
   "cell_type": "markdown",
   "id": "142fd2b6",
   "metadata": {},
   "source": [
    "## Cull columns"
   ]
  },
  {
   "cell_type": "code",
   "execution_count": 17,
   "id": "d432f4dd",
   "metadata": {},
   "outputs": [
    {
     "data": {
      "text/html": [
       "<div>\n",
       "<style scoped>\n",
       "    .dataframe tbody tr th:only-of-type {\n",
       "        vertical-align: middle;\n",
       "    }\n",
       "\n",
       "    .dataframe tbody tr th {\n",
       "        vertical-align: top;\n",
       "    }\n",
       "\n",
       "    .dataframe thead th {\n",
       "        text-align: right;\n",
       "    }\n",
       "</style>\n",
       "<table border=\"1\" class=\"dataframe\">\n",
       "  <thead>\n",
       "    <tr style=\"text-align: right;\">\n",
       "      <th></th>\n",
       "      <th>Item Name</th>\n",
       "      <th>Quantity</th>\n",
       "      <th>Price</th>\n",
       "      <th>Transaction ID</th>\n",
       "    </tr>\n",
       "    <tr>\n",
       "      <th>Sale Date</th>\n",
       "      <th></th>\n",
       "      <th></th>\n",
       "      <th></th>\n",
       "      <th></th>\n",
       "    </tr>\n",
       "  </thead>\n",
       "  <tbody>\n",
       "    <tr>\n",
       "      <th>2014-06-16</th>\n",
       "      <td>Garden Skirt</td>\n",
       "      <td>1</td>\n",
       "      <td>52.0</td>\n",
       "      <td>208295459</td>\n",
       "    </tr>\n",
       "    <tr>\n",
       "      <th>2014-08-30</th>\n",
       "      <td>Reserved Listing: girl organic shorts, blue or...</td>\n",
       "      <td>1</td>\n",
       "      <td>40.0</td>\n",
       "      <td>224019860</td>\n",
       "    </tr>\n",
       "    <tr>\n",
       "      <th>2014-08-30</th>\n",
       "      <td>Custom order--Size 12/14</td>\n",
       "      <td>1</td>\n",
       "      <td>52.0</td>\n",
       "      <td>224019861</td>\n",
       "    </tr>\n",
       "    <tr>\n",
       "      <th>2014-08-31</th>\n",
       "      <td>Reserved Listing:  girls shorts, organic chamb...</td>\n",
       "      <td>1</td>\n",
       "      <td>40.0</td>\n",
       "      <td>224278866</td>\n",
       "    </tr>\n",
       "    <tr>\n",
       "      <th>2014-09-02</th>\n",
       "      <td>Reserved Listing: girl top, organic cotton, ye...</td>\n",
       "      <td>1</td>\n",
       "      <td>54.0</td>\n",
       "      <td>224733141</td>\n",
       "    </tr>\n",
       "  </tbody>\n",
       "</table>\n",
       "</div>"
      ],
      "text/plain": [
       "                                                    Item Name  Quantity  \\\n",
       "Sale Date                                                                 \n",
       "2014-06-16                                       Garden Skirt         1   \n",
       "2014-08-30  Reserved Listing: girl organic shorts, blue or...         1   \n",
       "2014-08-30                           Custom order--Size 12/14         1   \n",
       "2014-08-31  Reserved Listing:  girls shorts, organic chamb...         1   \n",
       "2014-09-02  Reserved Listing: girl top, organic cotton, ye...         1   \n",
       "\n",
       "            Price  Transaction ID  \n",
       "Sale Date                          \n",
       "2014-06-16   52.0       208295459  \n",
       "2014-08-30   40.0       224019860  \n",
       "2014-08-30   52.0       224019861  \n",
       "2014-08-31   40.0       224278866  \n",
       "2014-09-02   54.0       224733141  "
      ]
     },
     "execution_count": 17,
     "metadata": {},
     "output_type": "execute_result"
    }
   ],
   "source": [
    "all_columns = list(df)\n",
    "#print(all_columns)\n",
    "columns_Iwant = [\n",
    "    'Item Name', \n",
    "    'Quantity', \n",
    "    'Price', \n",
    "    'Transaction ID', \n",
    "    ]\n",
    "df = df.loc[:,columns_Iwant]"
   ]
  },
  {
   "cell_type": "markdown",
   "id": "7f7db69d",
   "metadata": {},
   "source": [
    "## Get order data from Shopify"
   ]
  },
  {
   "cell_type": "markdown",
   "id": "c28bf069",
   "metadata": {},
   "source": [
    "### These data not available in standard reports.  Custome service is working on getting it to me."
   ]
  },
  {
   "cell_type": "code",
   "execution_count": 3,
   "id": "18528583",
   "metadata": {},
   "outputs": [],
   "source": [
    "#df = pd.read_csv('./shopify/sales.csv')"
   ]
  },
  {
   "cell_type": "code",
   "execution_count": null,
   "id": "6684cbe6",
   "metadata": {},
   "outputs": [],
   "source": []
  },
  {
   "cell_type": "code",
   "execution_count": null,
   "id": "57490189",
   "metadata": {},
   "outputs": [],
   "source": []
  }
 ],
 "metadata": {
  "kernelspec": {
   "display_name": "Python 3 (ipykernel)",
   "language": "python",
   "name": "python3"
  },
  "language_info": {
   "codemirror_mode": {
    "name": "ipython",
    "version": 3
   },
   "file_extension": ".py",
   "mimetype": "text/x-python",
   "name": "python",
   "nbconvert_exporter": "python",
   "pygments_lexer": "ipython3",
   "version": "3.9.9"
  }
 },
 "nbformat": 4,
 "nbformat_minor": 5
}
