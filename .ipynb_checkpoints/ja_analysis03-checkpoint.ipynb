{
 "cells": [
  {
   "cell_type": "markdown",
   "id": "36dec71b",
   "metadata": {},
   "source": [
    "# JillyAtlanta Sales\n",
    "\n",
    "***"
   ]
  },
  {
   "cell_type": "code",
   "execution_count": 1,
   "id": "cb3f300a",
   "metadata": {},
   "outputs": [],
   "source": [
    "import pandas as pd\n",
    "import numpy as np\n",
    "import glob, datetime\n",
    "from matplotlib import pyplot as plt"
   ]
  },
  {
   "cell_type": "markdown",
   "id": "7b1fed79",
   "metadata": {},
   "source": [
    "***\n",
    "## Etsy"
   ]
  },
  {
   "cell_type": "markdown",
   "id": "a66a7407",
   "metadata": {},
   "source": [
    "Get orders, nets, and refunds."
   ]
  },
  {
   "cell_type": "code",
   "execution_count": 2,
   "id": "d2da2697",
   "metadata": {},
   "outputs": [],
   "source": [
    "fiels = glob.glob('./etsy/EtsySales/*.csv')\n",
    "df1 = pd.DataFrame()\n",
    "for fiel in fiels:\n",
    "    dfi = pd.read_csv(fiel)\n",
    "    df1 = pd.concat([df1, dfi])\n",
    "df1 = df1[['Order Date', \n",
    "           'Order ID', \n",
    "           'Net Amount', \n",
    "           'Refund Amount']]\n",
    "df1.columns = ['date', 'order_id', 'net_amount', 'refund_amount']\n",
    "df1['date'] = pd.to_datetime(df1['date'])\n",
    "df1.sort_values(by='date', inplace=True)\n",
    "#df1.head()"
   ]
  },
  {
   "cell_type": "markdown",
   "id": "333ba031",
   "metadata": {},
   "source": [
    "Get order_id sales items."
   ]
  },
  {
   "cell_type": "code",
   "execution_count": 3,
   "id": "0cb5451b",
   "metadata": {},
   "outputs": [],
   "source": [
    "fiels = glob.glob('./etsy/EtsySoldOrderItems/*.csv')\n",
    "df2 = pd.DataFrame()\n",
    "for fiel in fiels:\n",
    "    dfi = pd.read_csv(fiel)\n",
    "    df2 = pd.concat([df2, dfi])\n",
    "#df2.head()"
   ]
  },
  {
   "cell_type": "code",
   "execution_count": 4,
   "id": "7c5687d9",
   "metadata": {},
   "outputs": [
    {
     "data": {
      "text/html": [
       "<div>\n",
       "<style scoped>\n",
       "    .dataframe tbody tr th:only-of-type {\n",
       "        vertical-align: middle;\n",
       "    }\n",
       "\n",
       "    .dataframe tbody tr th {\n",
       "        vertical-align: top;\n",
       "    }\n",
       "\n",
       "    .dataframe thead th {\n",
       "        text-align: right;\n",
       "    }\n",
       "</style>\n",
       "<table border=\"1\" class=\"dataframe\">\n",
       "  <thead>\n",
       "    <tr style=\"text-align: right;\">\n",
       "      <th></th>\n",
       "      <th>index</th>\n",
       "      <th>date</th>\n",
       "      <th>order_id</th>\n",
       "      <th>item_name</th>\n",
       "    </tr>\n",
       "  </thead>\n",
       "  <tbody>\n",
       "    <tr>\n",
       "      <th>0</th>\n",
       "      <td>23</td>\n",
       "      <td>2014-06-16</td>\n",
       "      <td>144656004</td>\n",
       "      <td>Garden Skirt</td>\n",
       "    </tr>\n",
       "    <tr>\n",
       "      <th>1</th>\n",
       "      <td>22</td>\n",
       "      <td>2014-08-30</td>\n",
       "      <td>155967399</td>\n",
       "      <td>Reserved Listing: girl organic shorts, blue or...</td>\n",
       "    </tr>\n",
       "    <tr>\n",
       "      <th>2</th>\n",
       "      <td>21</td>\n",
       "      <td>2014-08-30</td>\n",
       "      <td>155967399</td>\n",
       "      <td>Custom order--Size 12/14</td>\n",
       "    </tr>\n",
       "    <tr>\n",
       "      <th>3</th>\n",
       "      <td>20</td>\n",
       "      <td>2014-08-31</td>\n",
       "      <td>156150920</td>\n",
       "      <td>Reserved Listing:  girls shorts, organic chamb...</td>\n",
       "    </tr>\n",
       "    <tr>\n",
       "      <th>4</th>\n",
       "      <td>19</td>\n",
       "      <td>2014-09-02</td>\n",
       "      <td>156470823</td>\n",
       "      <td>Reserved Listing: girl top, organic cotton, ye...</td>\n",
       "    </tr>\n",
       "    <tr>\n",
       "      <th>...</th>\n",
       "      <td>...</td>\n",
       "      <td>...</td>\n",
       "      <td>...</td>\n",
       "      <td>...</td>\n",
       "    </tr>\n",
       "    <tr>\n",
       "      <th>14889</th>\n",
       "      <td>4</td>\n",
       "      <td>2022-01-28</td>\n",
       "      <td>2360732074</td>\n",
       "      <td>Marlow Add-on PDF, girl top pattern, girl pdf ...</td>\n",
       "    </tr>\n",
       "    <tr>\n",
       "      <th>14890</th>\n",
       "      <td>3</td>\n",
       "      <td>2022-01-28</td>\n",
       "      <td>2360759003</td>\n",
       "      <td>Angelica PDF, dress pattern, girl pattern, sew...</td>\n",
       "    </tr>\n",
       "    <tr>\n",
       "      <th>14891</th>\n",
       "      <td>0</td>\n",
       "      <td>2022-01-29</td>\n",
       "      <td>2361635562</td>\n",
       "      <td>Louisa Pinafore PDF, girl pinafore pdf, girl p...</td>\n",
       "    </tr>\n",
       "    <tr>\n",
       "      <th>14892</th>\n",
       "      <td>1</td>\n",
       "      <td>2022-01-29</td>\n",
       "      <td>2361395347</td>\n",
       "      <td>Constance Cape PDF, girl cape pattern, winter ...</td>\n",
       "    </tr>\n",
       "    <tr>\n",
       "      <th>14893</th>\n",
       "      <td>2</td>\n",
       "      <td>2022-01-29</td>\n",
       "      <td>2361213588</td>\n",
       "      <td>Melbourne Romper PDF, boy romper pattern, girl...</td>\n",
       "    </tr>\n",
       "  </tbody>\n",
       "</table>\n",
       "<p>14894 rows × 4 columns</p>\n",
       "</div>"
      ],
      "text/plain": [
       "       index       date    order_id  \\\n",
       "0         23 2014-06-16   144656004   \n",
       "1         22 2014-08-30   155967399   \n",
       "2         21 2014-08-30   155967399   \n",
       "3         20 2014-08-31   156150920   \n",
       "4         19 2014-09-02   156470823   \n",
       "...      ...        ...         ...   \n",
       "14889      4 2022-01-28  2360732074   \n",
       "14890      3 2022-01-28  2360759003   \n",
       "14891      0 2022-01-29  2361635562   \n",
       "14892      1 2022-01-29  2361395347   \n",
       "14893      2 2022-01-29  2361213588   \n",
       "\n",
       "                                               item_name  \n",
       "0                                           Garden Skirt  \n",
       "1      Reserved Listing: girl organic shorts, blue or...  \n",
       "2                               Custom order--Size 12/14  \n",
       "3      Reserved Listing:  girls shorts, organic chamb...  \n",
       "4      Reserved Listing: girl top, organic cotton, ye...  \n",
       "...                                                  ...  \n",
       "14889  Marlow Add-on PDF, girl top pattern, girl pdf ...  \n",
       "14890  Angelica PDF, dress pattern, girl pattern, sew...  \n",
       "14891  Louisa Pinafore PDF, girl pinafore pdf, girl p...  \n",
       "14892  Constance Cape PDF, girl cape pattern, winter ...  \n",
       "14893  Melbourne Romper PDF, boy romper pattern, girl...  \n",
       "\n",
       "[14894 rows x 4 columns]"
      ]
     },
     "execution_count": 4,
     "metadata": {},
     "output_type": "execute_result"
    }
   ],
   "source": [
    "df2 = df2[['Sale Date',\n",
    "           'Order ID', \n",
    "           'Item Name']]\n",
    "df2.columns = ['date', 'order_id', 'item_name']\n",
    "df2['date'] = pd.to_datetime(df2['date'])\n",
    "df2.sort_values(by='date', inplace=True)\n",
    "df2.reset_index()\n",
    "#df2.head()"
   ]
  },
  {
   "cell_type": "markdown",
   "id": "d669e6a8",
   "metadata": {},
   "source": [
    "Identify item_name as PDF or not.  First, make a list of all the PDF listings."
   ]
  },
  {
   "cell_type": "code",
   "execution_count": 5,
   "id": "12683ae2",
   "metadata": {},
   "outputs": [
    {
     "data": {
      "text/plain": [
       "114"
      ]
     },
     "execution_count": 5,
     "metadata": {},
     "output_type": "execute_result"
    }
   ],
   "source": [
    "listings = pd.read_csv('listings_names.csv')\n",
    "listings = listings[listings.PDF != 0]\n",
    "listings.head()\n",
    "pdfs = [x.strip(\"\\\" '\") for x in listings.item_title.values]\n",
    "for each in pdfs:\n",
    "    if 'pdf'.casefold() in each.casefold(): pass\n",
    "    else: \n",
    "        print(each)\n",
    "        1/0\n",
    "len(pdfs)"
   ]
  },
  {
   "cell_type": "markdown",
   "id": "41f65dd2",
   "metadata": {},
   "source": [
    "Then, in df2, add a column 'is_pdf' = False (not a pdf) or True (pdf).  Once this is done, remove column with item_name.  Finally, remove duplicate columns."
   ]
  },
  {
   "cell_type": "code",
   "execution_count": 6,
   "id": "1d54ce6b",
   "metadata": {},
   "outputs": [],
   "source": [
    "def is_pdf(item_name):\n",
    "    return item_name in pdfs\n",
    "\n",
    "df2['pdf'] = df2['item_name'].apply(is_pdf)\n",
    "df2 = df2[['order_id', 'pdf']]\n",
    "df2.drop_duplicates(inplace=True)\n",
    "df2.sort_values(by='order_id', inplace=True)\n",
    "#df2.head()\n",
    "#df2.tail()"
   ]
  },
  {
   "cell_type": "markdown",
   "id": "330d8957",
   "metadata": {},
   "source": [
    "Merge df1 and df2 to give dataframe of all sales.  Then remove sales that were not pdfs."
   ]
  },
  {
   "cell_type": "code",
   "execution_count": 7,
   "id": "7e0945e9",
   "metadata": {},
   "outputs": [],
   "source": [
    "df3 = pd.merge(df1, df2, on='order_id', how='outer')\n",
    "df3 = df3[df3.pdf == True]\n",
    "#df3.tail()"
   ]
  },
  {
   "cell_type": "code",
   "execution_count": 8,
   "id": "52d2dd0b",
   "metadata": {},
   "outputs": [],
   "source": [
    "df3 = df3.dropna(axis=0)\n",
    "#df3.tail()"
   ]
  },
  {
   "cell_type": "code",
   "execution_count": 9,
   "id": "8a8f1e0c",
   "metadata": {},
   "outputs": [],
   "source": [
    "df3['year_month'] = df3['date'].dt.to_period('M')\n",
    "df3['sales'] = df3['net_amount'] - df3['refund_amount']\n",
    "#df3.head()"
   ]
  },
  {
   "cell_type": "code",
   "execution_count": 10,
   "id": "c8c82088",
   "metadata": {},
   "outputs": [],
   "source": [
    "df4 = df3[['year_month', 'sales']]\n",
    "#df4.tail()"
   ]
  },
  {
   "cell_type": "code",
   "execution_count": 11,
   "id": "62726799",
   "metadata": {},
   "outputs": [
    {
     "data": {
      "text/html": [
       "<div>\n",
       "<style scoped>\n",
       "    .dataframe tbody tr th:only-of-type {\n",
       "        vertical-align: middle;\n",
       "    }\n",
       "\n",
       "    .dataframe tbody tr th {\n",
       "        vertical-align: top;\n",
       "    }\n",
       "\n",
       "    .dataframe thead th {\n",
       "        text-align: right;\n",
       "    }\n",
       "</style>\n",
       "<table border=\"1\" class=\"dataframe\">\n",
       "  <thead>\n",
       "    <tr style=\"text-align: right;\">\n",
       "      <th></th>\n",
       "      <th>year_month</th>\n",
       "      <th>sales</th>\n",
       "    </tr>\n",
       "  </thead>\n",
       "  <tbody>\n",
       "    <tr>\n",
       "      <th>0</th>\n",
       "      <td>2014-12</td>\n",
       "      <td>8.48</td>\n",
       "    </tr>\n",
       "    <tr>\n",
       "      <th>1</th>\n",
       "      <td>2015-02</td>\n",
       "      <td>16.96</td>\n",
       "    </tr>\n",
       "    <tr>\n",
       "      <th>2</th>\n",
       "      <td>2015-03</td>\n",
       "      <td>84.55</td>\n",
       "    </tr>\n",
       "    <tr>\n",
       "      <th>3</th>\n",
       "      <td>2015-04</td>\n",
       "      <td>54.04</td>\n",
       "    </tr>\n",
       "    <tr>\n",
       "      <th>4</th>\n",
       "      <td>2015-05</td>\n",
       "      <td>73.16</td>\n",
       "    </tr>\n",
       "  </tbody>\n",
       "</table>\n",
       "</div>"
      ],
      "text/plain": [
       "  year_month  sales\n",
       "0    2014-12   8.48\n",
       "1    2015-02  16.96\n",
       "2    2015-03  84.55\n",
       "3    2015-04  54.04\n",
       "4    2015-05  73.16"
      ]
     },
     "execution_count": 11,
     "metadata": {},
     "output_type": "execute_result"
    }
   ],
   "source": [
    "df5 = df4.groupby('year_month').sum().reset_index()\n",
    "df5.head()"
   ]
  },
  {
   "cell_type": "code",
   "execution_count": 12,
   "id": "f5cfcca4",
   "metadata": {},
   "outputs": [
    {
     "data": {
      "text/plain": [
       "year_month    datetime64[ns]\n",
       "sales                float64\n",
       "dtype: object"
      ]
     },
     "execution_count": 12,
     "metadata": {},
     "output_type": "execute_result"
    }
   ],
   "source": [
    "df5['year_month'] = df5.year_month.values.astype('datetime64[M]')\n",
    "df5.dtypes"
   ]
  },
  {
   "cell_type": "code",
   "execution_count": 13,
   "id": "fa732c07",
   "metadata": {},
   "outputs": [
    {
     "name": "stdout",
     "output_type": "stream",
     "text": [
      "[1, 13, 25, 37, 49, 61, 73, 85]\n"
     ]
    },
    {
     "data": {
      "text/plain": [
       "str"
      ]
     },
     "execution_count": 13,
     "metadata": {},
     "output_type": "execute_result"
    },
    {
     "data": {
      "image/png": "[encoded data removed]",
      "text/plain": [
       "<Figure size 1440x288 with 1 Axes>"
      ]
     },
     "metadata": {
      "needs_background": "light"
     },
     "output_type": "display_data"
    }
   ],
   "source": [
    "df_etsy = df5\n",
    "dates = [str(x) for x in list(df5['year_month'])]\n",
    "sales_etsy = list(df5['sales'])\n",
    "plt.figure(figsize=(20,4))\n",
    "plt.bar(dates, sales_etsy)\n",
    "locs, labels = plt.xticks()\n",
    "xticks = ['2015', '2016', '2017', '2018', '2019', '2020', '2021', '2022']\n",
    "new_locs = []\n",
    "i = 1\n",
    "while i <= locs[-1] + 1:\n",
    "    new_locs.append(i)\n",
    "    i += 12\n",
    "print(new_locs)\n",
    "plt.xticks(new_locs, xticks, horizontalalignment='right')\n",
    "type(dates[3])"
   ]
  },
  {
   "cell_type": "markdown",
   "id": "1b32510c",
   "metadata": {},
   "source": [
    "***\n",
    "## Shopify"
   ]
  },
  {
   "cell_type": "markdown",
   "id": "b744194f",
   "metadata": {},
   "source": [
    "Get Shopify sales data."
   ]
  },
  {
   "cell_type": "code",
   "execution_count": 14,
   "id": "781d6a26",
   "metadata": {},
   "outputs": [],
   "source": [
    "df2 = pd.read_csv('./shopify/sales.csv')\n",
    "#df.head()"
   ]
  },
  {
   "cell_type": "markdown",
   "id": "8052aa14",
   "metadata": {},
   "source": [
    "Get rid of records of days that have no sales."
   ]
  },
  {
   "cell_type": "code",
   "execution_count": 15,
   "id": "1bb13fb7",
   "metadata": {},
   "outputs": [],
   "source": [
    "df2 = df2.dropna(axis=0)\n",
    "#df.head()"
   ]
  },
  {
   "cell_type": "markdown",
   "id": "4604d976",
   "metadata": {},
   "source": [
    "Garner columns of interest."
   ]
  },
  {
   "cell_type": "code",
   "execution_count": 16,
   "id": "6a5a8e7f",
   "metadata": {},
   "outputs": [],
   "source": [
    "df2 = df2[['day', 'net_sales']]"
   ]
  },
  {
   "cell_type": "markdown",
   "id": "03627283",
   "metadata": {},
   "source": [
    "Rename columns to match Etsy dataframe."
   ]
  },
  {
   "cell_type": "code",
   "execution_count": 17,
   "id": "2a5c05ab",
   "metadata": {},
   "outputs": [
    {
     "data": {
      "text/html": [
       "<div>\n",
       "<style scoped>\n",
       "    .dataframe tbody tr th:only-of-type {\n",
       "        vertical-align: middle;\n",
       "    }\n",
       "\n",
       "    .dataframe tbody tr th {\n",
       "        vertical-align: top;\n",
       "    }\n",
       "\n",
       "    .dataframe thead th {\n",
       "        text-align: right;\n",
       "    }\n",
       "</style>\n",
       "<table border=\"1\" class=\"dataframe\">\n",
       "  <thead>\n",
       "    <tr style=\"text-align: right;\">\n",
       "      <th></th>\n",
       "      <th>date</th>\n",
       "      <th>sales</th>\n",
       "    </tr>\n",
       "  </thead>\n",
       "  <tbody>\n",
       "    <tr>\n",
       "      <th>91</th>\n",
       "      <td>2020-04-04</td>\n",
       "      <td>9.00</td>\n",
       "    </tr>\n",
       "    <tr>\n",
       "      <th>104</th>\n",
       "      <td>2020-04-16</td>\n",
       "      <td>0.00</td>\n",
       "    </tr>\n",
       "    <tr>\n",
       "      <th>105</th>\n",
       "      <td>2020-04-17</td>\n",
       "      <td>29.25</td>\n",
       "    </tr>\n",
       "    <tr>\n",
       "      <th>106</th>\n",
       "      <td>2020-04-17</td>\n",
       "      <td>11.70</td>\n",
       "    </tr>\n",
       "    <tr>\n",
       "      <th>107</th>\n",
       "      <td>2020-04-17</td>\n",
       "      <td>5.85</td>\n",
       "    </tr>\n",
       "  </tbody>\n",
       "</table>\n",
       "</div>"
      ],
      "text/plain": [
       "           date  sales\n",
       "91   2020-04-04   9.00\n",
       "104  2020-04-16   0.00\n",
       "105  2020-04-17  29.25\n",
       "106  2020-04-17  11.70\n",
       "107  2020-04-17   5.85"
      ]
     },
     "execution_count": 17,
     "metadata": {},
     "output_type": "execute_result"
    }
   ],
   "source": [
    "df2.columns = ['date', 'sales']\n",
    "df2.head()"
   ]
  },
  {
   "cell_type": "markdown",
   "id": "08112799",
   "metadata": {},
   "source": [
    "Change date column to datetime object."
   ]
  },
  {
   "cell_type": "code",
   "execution_count": 18,
   "id": "249e47ed",
   "metadata": {},
   "outputs": [],
   "source": [
    "df2['date'] = pd.to_datetime(df2['date'])"
   ]
  },
  {
   "cell_type": "markdown",
   "id": "d40494d6",
   "metadata": {},
   "source": [
    "Reformat dates so we can group and sum."
   ]
  },
  {
   "cell_type": "code",
   "execution_count": 19,
   "id": "1fc12587",
   "metadata": {},
   "outputs": [
    {
     "data": {
      "text/html": [
       "<div>\n",
       "<style scoped>\n",
       "    .dataframe tbody tr th:only-of-type {\n",
       "        vertical-align: middle;\n",
       "    }\n",
       "\n",
       "    .dataframe tbody tr th {\n",
       "        vertical-align: top;\n",
       "    }\n",
       "\n",
       "    .dataframe thead th {\n",
       "        text-align: right;\n",
       "    }\n",
       "</style>\n",
       "<table border=\"1\" class=\"dataframe\">\n",
       "  <thead>\n",
       "    <tr style=\"text-align: right;\">\n",
       "      <th></th>\n",
       "      <th>date</th>\n",
       "      <th>sales</th>\n",
       "    </tr>\n",
       "  </thead>\n",
       "  <tbody>\n",
       "    <tr>\n",
       "      <th>0</th>\n",
       "      <td>2020-04</td>\n",
       "      <td>455.19</td>\n",
       "    </tr>\n",
       "    <tr>\n",
       "      <th>1</th>\n",
       "      <td>2020-05</td>\n",
       "      <td>209.00</td>\n",
       "    </tr>\n",
       "    <tr>\n",
       "      <th>2</th>\n",
       "      <td>2020-06</td>\n",
       "      <td>571.98</td>\n",
       "    </tr>\n",
       "    <tr>\n",
       "      <th>3</th>\n",
       "      <td>2020-07</td>\n",
       "      <td>334.60</td>\n",
       "    </tr>\n",
       "    <tr>\n",
       "      <th>4</th>\n",
       "      <td>2020-08</td>\n",
       "      <td>1626.95</td>\n",
       "    </tr>\n",
       "  </tbody>\n",
       "</table>\n",
       "</div>"
      ],
      "text/plain": [
       "      date    sales\n",
       "0  2020-04   455.19\n",
       "1  2020-05   209.00\n",
       "2  2020-06   571.98\n",
       "3  2020-07   334.60\n",
       "4  2020-08  1626.95"
      ]
     },
     "execution_count": 19,
     "metadata": {},
     "output_type": "execute_result"
    }
   ],
   "source": [
    "df2['date'] = df2['date'].dt.to_period('M')\n",
    "df2 = df2.groupby('date').sum().reset_index()\n",
    "df2.head()"
   ]
  },
  {
   "cell_type": "code",
   "execution_count": 20,
   "id": "c90eebb8",
   "metadata": {},
   "outputs": [],
   "source": [
    "df2['date'] = df2.date.values.astype('datetime64[M]')\n",
    "#df2.dtypes\n",
    "#print(df2)"
   ]
  },
  {
   "cell_type": "code",
   "execution_count": 21,
   "id": "4afb132f",
   "metadata": {},
   "outputs": [
    {
     "name": "stdout",
     "output_type": "stream",
     "text": [
      "[9, 21]\n"
     ]
    },
    {
     "data": {
      "text/plain": [
       "str"
      ]
     },
     "execution_count": 21,
     "metadata": {},
     "output_type": "execute_result"
    },
    {
     "data": {
      "image/png": "[encoded data removed]",
      "text/plain": [
       "<Figure size 1440x288 with 1 Axes>"
      ]
     },
     "metadata": {
      "needs_background": "light"
     },
     "output_type": "display_data"
    }
   ],
   "source": [
    "df_shopify = df2\n",
    "dates = [str(x) for x in list(df2['date'])]\n",
    "sales_shopify = list(df2['sales'])\n",
    "plt.figure(figsize=(20,4))\n",
    "plt.bar(dates, sales_shopify)\n",
    "locs, labels = plt.xticks()\n",
    "xticks = ['2021', '2022']\n",
    "new_locs = []\n",
    "i = 9\n",
    "while i <= locs[-1] + 1:\n",
    "    new_locs.append(i)\n",
    "    i += 12\n",
    "print(new_locs)\n",
    "plt.xticks(new_locs, xticks, horizontalalignment='right')\n",
    "type(dates[3])"
   ]
  },
  {
   "cell_type": "markdown",
   "id": "225967c1",
   "metadata": {},
   "source": [
    "***\n",
    "## Combine Etsy and Shopify"
   ]
  },
  {
   "cell_type": "code",
   "execution_count": 36,
   "id": "d53bd7f8",
   "metadata": {},
   "outputs": [
    {
     "data": {
      "text/html": [
       "<div>\n",
       "<style scoped>\n",
       "    .dataframe tbody tr th:only-of-type {\n",
       "        vertical-align: middle;\n",
       "    }\n",
       "\n",
       "    .dataframe tbody tr th {\n",
       "        vertical-align: top;\n",
       "    }\n",
       "\n",
       "    .dataframe thead th {\n",
       "        text-align: right;\n",
       "    }\n",
       "</style>\n",
       "<table border=\"1\" class=\"dataframe\">\n",
       "  <thead>\n",
       "    <tr style=\"text-align: right;\">\n",
       "      <th></th>\n",
       "      <th>dates</th>\n",
       "      <th>etsy</th>\n",
       "      <th>shopify</th>\n",
       "    </tr>\n",
       "  </thead>\n",
       "  <tbody>\n",
       "    <tr>\n",
       "      <th>0</th>\n",
       "      <td>2014-12-01 00:00:00</td>\n",
       "      <td>8.48</td>\n",
       "      <td>0.0</td>\n",
       "    </tr>\n",
       "    <tr>\n",
       "      <th>1</th>\n",
       "      <td>2015-02-01 00:00:00</td>\n",
       "      <td>16.96</td>\n",
       "      <td>0.0</td>\n",
       "    </tr>\n",
       "    <tr>\n",
       "      <th>2</th>\n",
       "      <td>2015-03-01 00:00:00</td>\n",
       "      <td>84.55</td>\n",
       "      <td>0.0</td>\n",
       "    </tr>\n",
       "    <tr>\n",
       "      <th>3</th>\n",
       "      <td>2015-04-01 00:00:00</td>\n",
       "      <td>54.04</td>\n",
       "      <td>0.0</td>\n",
       "    </tr>\n",
       "    <tr>\n",
       "      <th>4</th>\n",
       "      <td>2015-05-01 00:00:00</td>\n",
       "      <td>73.16</td>\n",
       "      <td>0.0</td>\n",
       "    </tr>\n",
       "  </tbody>\n",
       "</table>\n",
       "</div>"
      ],
      "text/plain": [
       "                 dates   etsy  shopify\n",
       "0  2014-12-01 00:00:00   8.48      0.0\n",
       "1  2015-02-01 00:00:00  16.96      0.0\n",
       "2  2015-03-01 00:00:00  84.55      0.0\n",
       "3  2015-04-01 00:00:00  54.04      0.0\n",
       "4  2015-05-01 00:00:00  73.16      0.0"
      ]
     },
     "execution_count": 36,
     "metadata": {},
     "output_type": "execute_result"
    }
   ],
   "source": [
    "df_etsy.columns = ['date', 'sales_etsy']\n",
    "df_shopify.columns = ['date', 'sales_shopify']\n",
    "df_merge = pd.merge(df_etsy, df_shopify, on='date', how='outer')\n",
    "df_merge = df_merge.replace(np.nan,0)\n",
    "df_merge = pd.DataFrame(df_merge)\n",
    "df = pd.DataFrame()\n",
    "df['dates'] = [str(x) for x in list(df_merge['date'])]\n",
    "df['etsy'] = df_merge['sales_etsy']\n",
    "df['shopify'] = df_merge['sales_shopify']\n",
    "df.head()"
   ]
  },
  {
   "cell_type": "code",
   "execution_count": 44,
   "id": "43b86156",
   "metadata": {},
   "outputs": [
    {
     "data": {
      "text/plain": [
       "Text(0.5, 1.0, 'JillyAtlanta Sales')"
      ]
     },
     "execution_count": 44,
     "metadata": {},
     "output_type": "execute_result"
    },
    {
     "data": {
      "text/plain": [
       "<Figure size 864x288 with 0 Axes>"
      ]
     },
     "metadata": {},
     "output_type": "display_data"
    },
    {
     "data": {
      "image/png": "[encoded data removed]",
      "text/plain": [
       "<Figure size 432x288 with 1 Axes>"
      ]
     },
     "metadata": {
      "needs_background": "light"
     },
     "output_type": "display_data"
    }
   ],
   "source": [
    "plt.figure(figsize=(12,4))\n",
    "df.plot(kind='bar', stacked=True)\n",
    "plt.title('JillyAtlanta Sales')"
   ]
  },
  {
   "cell_type": "code",
   "execution_count": 43,
   "id": "1d7576fe",
   "metadata": {},
   "outputs": [
    {
     "data": {
      "image/png": "[encoded data removed]",
      "text/plain": [
       "<Figure size 432x288 with 1 Axes>"
      ]
     },
     "metadata": {
      "needs_background": "light"
     },
     "output_type": "display_data"
    },
    {
     "data": {
      "image/png": "[encoded data removed]",
      "text/plain": [
       "<Figure size 864x288 with 1 Axes>"
      ]
     },
     "metadata": {
      "needs_background": "light"
     },
     "output_type": "display_data"
    }
   ],
   "source": [
    "plt.bar(df.dates.values, df.etsy.values, color='r')\n",
    "plt.bar(df.dates.values, df.shopify.values, bottom=df.etsy.values, color='b')\n",
    "plt.figure(figsize=(12,4))\n",
    "plt.xlabel('Date')\n",
    "plt.ylabel('Sales')\n",
    "plt.legend(['Etsy', 'Shopify'])\n",
    "plt.title('JillyAtlanta Sales')\n",
    "plt.show()"
   ]
  }
 ],
 "metadata": {
  "kernelspec": {
   "display_name": "Python 3 (ipykernel)",
   "language": "python",
   "name": "python3"
  },
  "language_info": {
   "codemirror_mode": {
    "name": "ipython",
    "version": 3
   },
   "file_extension": ".py",
   "mimetype": "text/x-python",
   "name": "python",
   "nbconvert_exporter": "python",
   "pygments_lexer": "ipython3",
   "version": "3.9.9"
  }
 },
 "nbformat": 4,
 "nbformat_minor": 5
}
