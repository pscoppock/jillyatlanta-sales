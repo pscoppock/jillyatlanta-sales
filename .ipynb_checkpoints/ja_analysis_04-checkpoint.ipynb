{
 "cells": [
  {
   "cell_type": "markdown",
   "id": "4f133e6a",
   "metadata": {},
   "source": [
    "# JillyAtlanta Sales Analysis\n",
    "PDF sales over time\n",
    "***"
   ]
  },
  {
   "cell_type": "markdown",
   "id": "24ca1367",
   "metadata": {},
   "source": [
    "## Table of Contents\n",
    "\n",
    "* [Gather and Preprocess Data](#gather_pp)\n",
    "    * [Make Etsy Dataframe](#etsy_df)\n",
    "        * [Order and Refund df](#order_refund_df)\n",
    "        * [Order Items df](#order_items_df)\n",
    "    * [Make Shopify Dataframe](#shopify_df)\n",
    "* [Graph Sales vs. Month](#sales_vs_month)\n",
    "    \n",
    "***"
   ]
  },
  {
   "cell_type": "markdown",
   "id": "19f50a88",
   "metadata": {},
   "source": [
    "***\n",
    "### Gather and Preprocess Data <a class=\"anchor\" id=\"gather_pp\"></a>"
   ]
  },
  {
   "cell_type": "markdown",
   "id": "48a44223",
   "metadata": {},
   "source": [
    "We have sales data from two sources, Etsy (www.etsy.com/market/jillyatlanta) and Shopify (https://jillyatlanta.com).\n",
    "\n",
    "We gather data from both sites, clean up and collate."
   ]
  },
  {
   "cell_type": "markdown",
   "id": "6f63b961",
   "metadata": {},
   "source": [
    "#### Etsy Dataframe <a class=\"anchor\" id=\"etsy_df\"></a>"
   ]
  },
  {
   "cell_type": "code",
   "execution_count": 1,
   "id": "d24fba59",
   "metadata": {},
   "outputs": [],
   "source": [
    "import pandas as pd\n",
    "import glob\n",
    "from datetime import datetime\n",
    "import numpy as np\n",
    "from matplotlib import pyplot as plt"
   ]
  },
  {
   "cell_type": "markdown",
   "id": "1d4ba78a",
   "metadata": {},
   "source": [
    "Get data that includes sales and refund amounts with order_id <a class=\"anchor\" id=\"order_refund_df\"></a>"
   ]
  },
  {
   "cell_type": "code",
   "execution_count": 2,
   "id": "43471bcd",
   "metadata": {},
   "outputs": [],
   "source": [
    "fiels = glob.glob('./etsy/EtsySales/*.csv')\n",
    "df1 = pd.DataFrame()\n",
    "for fiel in fiels:\n",
    "    dfi = pd.read_csv(fiel)\n",
    "    df1 = pd.concat([df1, dfi])\n",
    "#df1.head()"
   ]
  },
  {
   "cell_type": "code",
   "execution_count": 3,
   "id": "05adac44",
   "metadata": {},
   "outputs": [
    {
     "data": {
      "text/plain": [
       "\"\\nimport pandas as pd\\n\\nidx = pd.date_range('09-01-2013', '09-30-2013')\\n\\ns = pd.Series({'09-02-2013': 2,\\n               '09-03-2013': 10,\\n               '09-06-2013': 5,\\n               '09-07-2013': 1})\\ns.index = pd.DatetimeIndex(s.index)\\n\\ns = s.reindex(idx, fill_value=0)\\nprint(s)\\n\""
      ]
     },
     "execution_count": 3,
     "metadata": {},
     "output_type": "execute_result"
    }
   ],
   "source": [
    "df1 = df1[['Order Date', \n",
    "           'Order ID', \n",
    "           'Net Amount', \n",
    "           'Refund Amount']]\n",
    "df1.columns = ['date', 'order_id', 'net_amount', 'refund_amount']\n",
    "df1['date'] = pd.to_datetime(df1['date'])\n",
    "df1.sort_values(by='date', inplace=True)\n",
    "#df1.head()\n",
    "\n",
    "'''\n",
    "import pandas as pd\n",
    "\n",
    "idx = pd.date_range('09-01-2013', '09-30-2013')\n",
    "\n",
    "s = pd.Series({'09-02-2013': 2,\n",
    "               '09-03-2013': 10,\n",
    "               '09-06-2013': 5,\n",
    "               '09-07-2013': 1})\n",
    "s.index = pd.DatetimeIndex(s.index)\n",
    "\n",
    "s = s.reindex(idx, fill_value=0)\n",
    "print(s)\n",
    "'''"
   ]
  },
  {
   "cell_type": "markdown",
   "id": "79f10162",
   "metadata": {},
   "source": [
    "<a class=\"anchor\" id=\"order_items_df\"></a>\n",
    "Get data that includes date, order_id, and item name.  We will be matching item names to item type so we can isolate PDF sales. "
   ]
  },
  {
   "cell_type": "code",
   "execution_count": 4,
   "id": "d898b16f",
   "metadata": {},
   "outputs": [],
   "source": [
    "fiels = glob.glob('./etsy/EtsySoldOrderItems/*.csv')\n",
    "df2 = pd.DataFrame()\n",
    "for fiel in fiels:\n",
    "    dfi = pd.read_csv(fiel)\n",
    "    df2 = pd.concat([df2, dfi])\n",
    "#df2.head()"
   ]
  },
  {
   "cell_type": "code",
   "execution_count": 5,
   "id": "6627b97e",
   "metadata": {},
   "outputs": [],
   "source": [
    "df2 = df2[['Sale Date',\n",
    "           'Order ID', \n",
    "           'Item Name']]\n",
    "df2.columns = ['date', 'order_id', 'item_name']"
   ]
  },
  {
   "cell_type": "markdown",
   "id": "a06c106d",
   "metadata": {},
   "source": [
    "Make a list of all items that are PDFs."
   ]
  },
  {
   "cell_type": "code",
   "execution_count": 6,
   "id": "177d1a3e",
   "metadata": {},
   "outputs": [],
   "source": [
    "listings = pd.read_csv('listings_names.csv')\n",
    "listings = listings[listings.PDF != 0]\n",
    "pdfs = [x.strip(\"\\\" '\") for x in listings.item_title.values]\n",
    "for each in pdfs:\n",
    "    if 'pdf'.casefold() in each.casefold(): pass\n",
    "    else: \n",
    "        print(each)\n",
    "        1/0\n",
    "#len(pdfs)"
   ]
  },
  {
   "cell_type": "markdown",
   "id": "41f26c88",
   "metadata": {},
   "source": [
    "Then, in df2, add a column 'is_pdf' = False (not a pdf) or True (pdf).  Once this is done, remove column with item_name.  Finally, remove duplicate columns."
   ]
  },
  {
   "cell_type": "code",
   "execution_count": 7,
   "id": "e68e9d4b",
   "metadata": {},
   "outputs": [],
   "source": [
    "def is_pdf(item_name):\n",
    "    return item_name in pdfs\n",
    "\n",
    "df2['pdf'] = df2['item_name'].apply(is_pdf)\n",
    "df2 = df2[['order_id', 'pdf']]\n",
    "df2.drop_duplicates(inplace=True)\n",
    "df2.sort_values(by='order_id', inplace=True)\n",
    "#df2.head()"
   ]
  },
  {
   "cell_type": "markdown",
   "id": "e2fb8a10",
   "metadata": {},
   "source": [
    "Merge df1 and df2 to give dataframe of all sales.  Then remove sales that were not pdfs."
   ]
  },
  {
   "cell_type": "code",
   "execution_count": 8,
   "id": "7e3cce51",
   "metadata": {},
   "outputs": [],
   "source": [
    "df3 = pd.merge(df1, df2, on='order_id', how='outer')\n",
    "df3 = df3[(df3.pdf == True)]\n",
    "#noshow = df3['net_amount'].isna().sum()\n",
    "#total = len(df3.index)\n",
    "#print(float(noshow) / total)\n",
    "df3 = df3[df3['refund_amount'].notna()]\n",
    "#df3.head()"
   ]
  },
  {
   "cell_type": "markdown",
   "id": "0ce44867",
   "metadata": {},
   "source": [
    "Interestingly, 1.2% of sales show up in \"OrderItems\" report from Etsy, but not in \"SalesReport\".  For an example, see the first pattern sale, order_id = 170920054, from Nov 23, 2014."
   ]
  },
  {
   "cell_type": "markdown",
   "id": "670485ff",
   "metadata": {},
   "source": [
    "Let's package Etsy data up into a dataframe, dfe."
   ]
  },
  {
   "cell_type": "code",
   "execution_count": 9,
   "id": "8ca64aa3",
   "metadata": {},
   "outputs": [
    {
     "data": {
      "text/plain": [
       "Index(['date', 'order_id', 'net_amount', 'refund_amount', 'pdf'], dtype='object')"
      ]
     },
     "execution_count": 9,
     "metadata": {},
     "output_type": "execute_result"
    }
   ],
   "source": [
    "df3.columns"
   ]
  },
  {
   "cell_type": "code",
   "execution_count": 10,
   "id": "24041452",
   "metadata": {},
   "outputs": [
    {
     "data": {
      "text/html": [
       "<div>\n",
       "<style scoped>\n",
       "    .dataframe tbody tr th:only-of-type {\n",
       "        vertical-align: middle;\n",
       "    }\n",
       "\n",
       "    .dataframe tbody tr th {\n",
       "        vertical-align: top;\n",
       "    }\n",
       "\n",
       "    .dataframe thead th {\n",
       "        text-align: right;\n",
       "    }\n",
       "</style>\n",
       "<table border=\"1\" class=\"dataframe\">\n",
       "  <thead>\n",
       "    <tr style=\"text-align: right;\">\n",
       "      <th></th>\n",
       "      <th>date</th>\n",
       "      <th>order_id</th>\n",
       "      <th>net_amount</th>\n",
       "      <th>refund_amount</th>\n",
       "      <th>pdf</th>\n",
       "      <th>Etsy</th>\n",
       "    </tr>\n",
       "  </thead>\n",
       "  <tbody>\n",
       "    <tr>\n",
       "      <th>11</th>\n",
       "      <td>2014-12-06</td>\n",
       "      <td>174935168</td>\n",
       "      <td>8.48</td>\n",
       "      <td>0.0</td>\n",
       "      <td>True</td>\n",
       "      <td>8.48</td>\n",
       "    </tr>\n",
       "    <tr>\n",
       "      <th>16</th>\n",
       "      <td>2015-02-07</td>\n",
       "      <td>188208165</td>\n",
       "      <td>8.48</td>\n",
       "      <td>0.0</td>\n",
       "      <td>True</td>\n",
       "      <td>8.48</td>\n",
       "    </tr>\n",
       "    <tr>\n",
       "      <th>19</th>\n",
       "      <td>2015-02-19</td>\n",
       "      <td>1001158565</td>\n",
       "      <td>8.48</td>\n",
       "      <td>0.0</td>\n",
       "      <td>True</td>\n",
       "      <td>8.48</td>\n",
       "    </tr>\n",
       "    <tr>\n",
       "      <th>23</th>\n",
       "      <td>2015-03-02</td>\n",
       "      <td>1003300558</td>\n",
       "      <td>8.48</td>\n",
       "      <td>0.0</td>\n",
       "      <td>True</td>\n",
       "      <td>8.48</td>\n",
       "    </tr>\n",
       "    <tr>\n",
       "      <th>25</th>\n",
       "      <td>2015-03-06</td>\n",
       "      <td>1004202913</td>\n",
       "      <td>5.57</td>\n",
       "      <td>0.0</td>\n",
       "      <td>True</td>\n",
       "      <td>5.57</td>\n",
       "    </tr>\n",
       "  </tbody>\n",
       "</table>\n",
       "</div>"
      ],
      "text/plain": [
       "         date    order_id  net_amount  refund_amount   pdf  Etsy\n",
       "11 2014-12-06   174935168        8.48            0.0  True  8.48\n",
       "16 2015-02-07   188208165        8.48            0.0  True  8.48\n",
       "19 2015-02-19  1001158565        8.48            0.0  True  8.48\n",
       "23 2015-03-02  1003300558        8.48            0.0  True  8.48\n",
       "25 2015-03-06  1004202913        5.57            0.0  True  5.57"
      ]
     },
     "execution_count": 10,
     "metadata": {},
     "output_type": "execute_result"
    }
   ],
   "source": [
    "df3['Etsy'] = df3['net_amount'] - df3['refund_amount']\n",
    "df3.head()"
   ]
  },
  {
   "cell_type": "code",
   "execution_count": 11,
   "id": "6206b506",
   "metadata": {},
   "outputs": [],
   "source": [
    "def get_year_month(d):\n",
    "    date_time_obj = datetime.strptime(str(d), '%Y-%m-%d %H:%M:%S') \n",
    "    year_month = datetime.strftime(date_time_obj, '%Y-%m')\n",
    "    return year_month\n",
    "\n",
    "df3['year_month'] = df3['date'].apply(get_year_month)\n",
    "#df3.head()"
   ]
  },
  {
   "cell_type": "code",
   "execution_count": 12,
   "id": "c270f551",
   "metadata": {
    "scrolled": true
   },
   "outputs": [],
   "source": [
    "df4 = df3[['year_month', 'Etsy']]\n",
    "#df4.head()"
   ]
  },
  {
   "cell_type": "markdown",
   "id": "ee1b6c87",
   "metadata": {},
   "source": [
    "Group and name df as dfe"
   ]
  },
  {
   "cell_type": "code",
   "execution_count": 13,
   "id": "2a1e2916",
   "metadata": {},
   "outputs": [
    {
     "data": {
      "text/html": [
       "<div>\n",
       "<style scoped>\n",
       "    .dataframe tbody tr th:only-of-type {\n",
       "        vertical-align: middle;\n",
       "    }\n",
       "\n",
       "    .dataframe tbody tr th {\n",
       "        vertical-align: top;\n",
       "    }\n",
       "\n",
       "    .dataframe thead th {\n",
       "        text-align: right;\n",
       "    }\n",
       "</style>\n",
       "<table border=\"1\" class=\"dataframe\">\n",
       "  <thead>\n",
       "    <tr style=\"text-align: right;\">\n",
       "      <th></th>\n",
       "      <th>year_month</th>\n",
       "      <th>Etsy</th>\n",
       "    </tr>\n",
       "  </thead>\n",
       "  <tbody>\n",
       "    <tr>\n",
       "      <th>0</th>\n",
       "      <td>2014-12</td>\n",
       "      <td>8.48</td>\n",
       "    </tr>\n",
       "    <tr>\n",
       "      <th>1</th>\n",
       "      <td>2015-02</td>\n",
       "      <td>16.96</td>\n",
       "    </tr>\n",
       "    <tr>\n",
       "      <th>2</th>\n",
       "      <td>2015-03</td>\n",
       "      <td>84.55</td>\n",
       "    </tr>\n",
       "    <tr>\n",
       "      <th>3</th>\n",
       "      <td>2015-04</td>\n",
       "      <td>54.04</td>\n",
       "    </tr>\n",
       "    <tr>\n",
       "      <th>4</th>\n",
       "      <td>2015-05</td>\n",
       "      <td>73.16</td>\n",
       "    </tr>\n",
       "  </tbody>\n",
       "</table>\n",
       "</div>"
      ],
      "text/plain": [
       "  year_month   Etsy\n",
       "0    2014-12   8.48\n",
       "1    2015-02  16.96\n",
       "2    2015-03  84.55\n",
       "3    2015-04  54.04\n",
       "4    2015-05  73.16"
      ]
     },
     "execution_count": 13,
     "metadata": {},
     "output_type": "execute_result"
    }
   ],
   "source": [
    "dfe = df4.groupby('year_month').sum().reset_index()\n",
    "dfe.head()"
   ]
  },
  {
   "cell_type": "markdown",
   "id": "dca65da6",
   "metadata": {},
   "source": [
    "#### Shopify Dataframe <a class=\"anchor\" id=\"shopify_df\"></a>"
   ]
  },
  {
   "cell_type": "markdown",
   "id": "b6edfe43",
   "metadata": {},
   "source": [
    "Get data that includes dates and total sales.  Refunds are aleady accounted for with these data."
   ]
  },
  {
   "cell_type": "code",
   "execution_count": 14,
   "id": "01dc5356",
   "metadata": {},
   "outputs": [],
   "source": [
    "df1 = pd.read_csv('./shopify/sales_per_day.csv')\n",
    "# Get rid of dates that have no sales\n",
    "df1 = df1.dropna(axis=0)\n",
    "#df1.head()"
   ]
  },
  {
   "cell_type": "code",
   "execution_count": 15,
   "id": "7ffbf10d",
   "metadata": {},
   "outputs": [],
   "source": [
    "# Columns of interest\n",
    "df2 = df1[['day', 'net_sales']].reset_index()"
   ]
  },
  {
   "cell_type": "markdown",
   "id": "dbea2ced",
   "metadata": {},
   "source": [
    "Had to reset index in order to avoid the chaining warning.  Gotta figure this out later."
   ]
  },
  {
   "cell_type": "code",
   "execution_count": 16,
   "id": "fbf7254c",
   "metadata": {},
   "outputs": [
    {
     "data": {
      "text/html": [
       "<div>\n",
       "<style scoped>\n",
       "    .dataframe tbody tr th:only-of-type {\n",
       "        vertical-align: middle;\n",
       "    }\n",
       "\n",
       "    .dataframe tbody tr th {\n",
       "        vertical-align: top;\n",
       "    }\n",
       "\n",
       "    .dataframe thead th {\n",
       "        text-align: right;\n",
       "    }\n",
       "</style>\n",
       "<table border=\"1\" class=\"dataframe\">\n",
       "  <thead>\n",
       "    <tr style=\"text-align: right;\">\n",
       "      <th></th>\n",
       "      <th>index</th>\n",
       "      <th>day</th>\n",
       "      <th>net_sales</th>\n",
       "      <th>year_month</th>\n",
       "    </tr>\n",
       "  </thead>\n",
       "  <tbody>\n",
       "    <tr>\n",
       "      <th>0</th>\n",
       "      <td>91</td>\n",
       "      <td>2020-04-04</td>\n",
       "      <td>9.00</td>\n",
       "      <td>2020-04</td>\n",
       "    </tr>\n",
       "    <tr>\n",
       "      <th>1</th>\n",
       "      <td>104</td>\n",
       "      <td>2020-04-16</td>\n",
       "      <td>0.00</td>\n",
       "      <td>2020-04</td>\n",
       "    </tr>\n",
       "    <tr>\n",
       "      <th>2</th>\n",
       "      <td>105</td>\n",
       "      <td>2020-04-17</td>\n",
       "      <td>29.25</td>\n",
       "      <td>2020-04</td>\n",
       "    </tr>\n",
       "    <tr>\n",
       "      <th>3</th>\n",
       "      <td>106</td>\n",
       "      <td>2020-04-17</td>\n",
       "      <td>11.70</td>\n",
       "      <td>2020-04</td>\n",
       "    </tr>\n",
       "    <tr>\n",
       "      <th>4</th>\n",
       "      <td>107</td>\n",
       "      <td>2020-04-17</td>\n",
       "      <td>5.85</td>\n",
       "      <td>2020-04</td>\n",
       "    </tr>\n",
       "  </tbody>\n",
       "</table>\n",
       "</div>"
      ],
      "text/plain": [
       "   index         day  net_sales year_month\n",
       "0     91  2020-04-04       9.00    2020-04\n",
       "1    104  2020-04-16       0.00    2020-04\n",
       "2    105  2020-04-17      29.25    2020-04\n",
       "3    106  2020-04-17      11.70    2020-04\n",
       "4    107  2020-04-17       5.85    2020-04"
      ]
     },
     "execution_count": 16,
     "metadata": {},
     "output_type": "execute_result"
    }
   ],
   "source": [
    "def reformat_date(d):\n",
    "    date = d.split('-')\n",
    "    y, m = date[0], date[1]\n",
    "    return y + '-' + m\n",
    "\n",
    "df2['year_month'] = [reformat_date(d) for d in df2['day']]\n",
    "df2.head()"
   ]
  },
  {
   "cell_type": "code",
   "execution_count": 17,
   "id": "f6a918e9",
   "metadata": {},
   "outputs": [
    {
     "data": {
      "text/html": [
       "<div>\n",
       "<style scoped>\n",
       "    .dataframe tbody tr th:only-of-type {\n",
       "        vertical-align: middle;\n",
       "    }\n",
       "\n",
       "    .dataframe tbody tr th {\n",
       "        vertical-align: top;\n",
       "    }\n",
       "\n",
       "    .dataframe thead th {\n",
       "        text-align: right;\n",
       "    }\n",
       "</style>\n",
       "<table border=\"1\" class=\"dataframe\">\n",
       "  <thead>\n",
       "    <tr style=\"text-align: right;\">\n",
       "      <th></th>\n",
       "      <th>year_month</th>\n",
       "      <th>Shopify</th>\n",
       "    </tr>\n",
       "  </thead>\n",
       "  <tbody>\n",
       "    <tr>\n",
       "      <th>0</th>\n",
       "      <td>2020-04</td>\n",
       "      <td>9.00</td>\n",
       "    </tr>\n",
       "    <tr>\n",
       "      <th>1</th>\n",
       "      <td>2020-04</td>\n",
       "      <td>0.00</td>\n",
       "    </tr>\n",
       "    <tr>\n",
       "      <th>2</th>\n",
       "      <td>2020-04</td>\n",
       "      <td>29.25</td>\n",
       "    </tr>\n",
       "    <tr>\n",
       "      <th>3</th>\n",
       "      <td>2020-04</td>\n",
       "      <td>11.70</td>\n",
       "    </tr>\n",
       "    <tr>\n",
       "      <th>4</th>\n",
       "      <td>2020-04</td>\n",
       "      <td>5.85</td>\n",
       "    </tr>\n",
       "  </tbody>\n",
       "</table>\n",
       "</div>"
      ],
      "text/plain": [
       "  year_month  Shopify\n",
       "0    2020-04     9.00\n",
       "1    2020-04     0.00\n",
       "2    2020-04    29.25\n",
       "3    2020-04    11.70\n",
       "4    2020-04     5.85"
      ]
     },
     "execution_count": 17,
     "metadata": {},
     "output_type": "execute_result"
    }
   ],
   "source": [
    "df3 = df2[['year_month', 'net_sales']]\n",
    "df3.columns = ['year_month', 'Shopify']\n",
    "df3.head()"
   ]
  },
  {
   "cell_type": "markdown",
   "id": "22a01986",
   "metadata": {},
   "source": [
    "Let's package Shopify data up into a dataframe, dfs."
   ]
  },
  {
   "cell_type": "markdown",
   "id": "3d01edbc",
   "metadata": {},
   "source": [
    "Change date to datetime object and reformat.  Group and sum."
   ]
  },
  {
   "cell_type": "code",
   "execution_count": 18,
   "id": "bcd9fb4d",
   "metadata": {
    "scrolled": false
   },
   "outputs": [
    {
     "data": {
      "text/html": [
       "<div>\n",
       "<style scoped>\n",
       "    .dataframe tbody tr th:only-of-type {\n",
       "        vertical-align: middle;\n",
       "    }\n",
       "\n",
       "    .dataframe tbody tr th {\n",
       "        vertical-align: top;\n",
       "    }\n",
       "\n",
       "    .dataframe thead th {\n",
       "        text-align: right;\n",
       "    }\n",
       "</style>\n",
       "<table border=\"1\" class=\"dataframe\">\n",
       "  <thead>\n",
       "    <tr style=\"text-align: right;\">\n",
       "      <th></th>\n",
       "      <th>year_month</th>\n",
       "      <th>Shopify</th>\n",
       "    </tr>\n",
       "  </thead>\n",
       "  <tbody>\n",
       "    <tr>\n",
       "      <th>18</th>\n",
       "      <td>2021-10</td>\n",
       "      <td>380.6</td>\n",
       "    </tr>\n",
       "    <tr>\n",
       "      <th>19</th>\n",
       "      <td>2021-11</td>\n",
       "      <td>381.4</td>\n",
       "    </tr>\n",
       "    <tr>\n",
       "      <th>20</th>\n",
       "      <td>2021-12</td>\n",
       "      <td>196.0</td>\n",
       "    </tr>\n",
       "    <tr>\n",
       "      <th>21</th>\n",
       "      <td>2022-01</td>\n",
       "      <td>688.0</td>\n",
       "    </tr>\n",
       "    <tr>\n",
       "      <th>22</th>\n",
       "      <td>2022-02</td>\n",
       "      <td>305.0</td>\n",
       "    </tr>\n",
       "  </tbody>\n",
       "</table>\n",
       "</div>"
      ],
      "text/plain": [
       "   year_month  Shopify\n",
       "18    2021-10    380.6\n",
       "19    2021-11    381.4\n",
       "20    2021-12    196.0\n",
       "21    2022-01    688.0\n",
       "22    2022-02    305.0"
      ]
     },
     "execution_count": 18,
     "metadata": {},
     "output_type": "execute_result"
    }
   ],
   "source": [
    "dfs = df3.groupby('year_month').sum().reset_index()\n",
    "dfs.tail()"
   ]
  },
  {
   "cell_type": "markdown",
   "id": "76f3b57c",
   "metadata": {},
   "source": [
    "***\n",
    "### Sales vs. Month Graphics <a class=\"anchor\" id=\"sales_vs_month\"></a>"
   ]
  },
  {
   "cell_type": "markdown",
   "id": "744d6f7b",
   "metadata": {},
   "source": [
    "dfe, dfs = dataframes for Etsy and Shopify"
   ]
  },
  {
   "cell_type": "code",
   "execution_count": 19,
   "id": "75547175",
   "metadata": {},
   "outputs": [
    {
     "data": {
      "text/html": [
       "<div>\n",
       "<style scoped>\n",
       "    .dataframe tbody tr th:only-of-type {\n",
       "        vertical-align: middle;\n",
       "    }\n",
       "\n",
       "    .dataframe tbody tr th {\n",
       "        vertical-align: top;\n",
       "    }\n",
       "\n",
       "    .dataframe thead th {\n",
       "        text-align: right;\n",
       "    }\n",
       "</style>\n",
       "<table border=\"1\" class=\"dataframe\">\n",
       "  <thead>\n",
       "    <tr style=\"text-align: right;\">\n",
       "      <th></th>\n",
       "      <th>year_month</th>\n",
       "      <th>Etsy</th>\n",
       "    </tr>\n",
       "  </thead>\n",
       "  <tbody>\n",
       "    <tr>\n",
       "      <th>0</th>\n",
       "      <td>2014-12</td>\n",
       "      <td>8.48</td>\n",
       "    </tr>\n",
       "    <tr>\n",
       "      <th>1</th>\n",
       "      <td>2015-02</td>\n",
       "      <td>16.96</td>\n",
       "    </tr>\n",
       "    <tr>\n",
       "      <th>2</th>\n",
       "      <td>2015-03</td>\n",
       "      <td>84.55</td>\n",
       "    </tr>\n",
       "    <tr>\n",
       "      <th>3</th>\n",
       "      <td>2015-04</td>\n",
       "      <td>54.04</td>\n",
       "    </tr>\n",
       "    <tr>\n",
       "      <th>4</th>\n",
       "      <td>2015-05</td>\n",
       "      <td>73.16</td>\n",
       "    </tr>\n",
       "  </tbody>\n",
       "</table>\n",
       "</div>"
      ],
      "text/plain": [
       "  year_month   Etsy\n",
       "0    2014-12   8.48\n",
       "1    2015-02  16.96\n",
       "2    2015-03  84.55\n",
       "3    2015-04  54.04\n",
       "4    2015-05  73.16"
      ]
     },
     "execution_count": 19,
     "metadata": {},
     "output_type": "execute_result"
    }
   ],
   "source": [
    "dfe.head()"
   ]
  },
  {
   "cell_type": "code",
   "execution_count": 20,
   "id": "01bbb7b1",
   "metadata": {
    "scrolled": true
   },
   "outputs": [
    {
     "data": {
      "text/html": [
       "<div>\n",
       "<style scoped>\n",
       "    .dataframe tbody tr th:only-of-type {\n",
       "        vertical-align: middle;\n",
       "    }\n",
       "\n",
       "    .dataframe tbody tr th {\n",
       "        vertical-align: top;\n",
       "    }\n",
       "\n",
       "    .dataframe thead th {\n",
       "        text-align: right;\n",
       "    }\n",
       "</style>\n",
       "<table border=\"1\" class=\"dataframe\">\n",
       "  <thead>\n",
       "    <tr style=\"text-align: right;\">\n",
       "      <th></th>\n",
       "      <th>year_month</th>\n",
       "      <th>Shopify</th>\n",
       "    </tr>\n",
       "  </thead>\n",
       "  <tbody>\n",
       "    <tr>\n",
       "      <th>0</th>\n",
       "      <td>2020-04</td>\n",
       "      <td>455.19</td>\n",
       "    </tr>\n",
       "    <tr>\n",
       "      <th>1</th>\n",
       "      <td>2020-05</td>\n",
       "      <td>209.00</td>\n",
       "    </tr>\n",
       "    <tr>\n",
       "      <th>2</th>\n",
       "      <td>2020-06</td>\n",
       "      <td>571.98</td>\n",
       "    </tr>\n",
       "    <tr>\n",
       "      <th>3</th>\n",
       "      <td>2020-07</td>\n",
       "      <td>334.60</td>\n",
       "    </tr>\n",
       "    <tr>\n",
       "      <th>4</th>\n",
       "      <td>2020-08</td>\n",
       "      <td>1626.95</td>\n",
       "    </tr>\n",
       "  </tbody>\n",
       "</table>\n",
       "</div>"
      ],
      "text/plain": [
       "  year_month  Shopify\n",
       "0    2020-04   455.19\n",
       "1    2020-05   209.00\n",
       "2    2020-06   571.98\n",
       "3    2020-07   334.60\n",
       "4    2020-08  1626.95"
      ]
     },
     "execution_count": 20,
     "metadata": {},
     "output_type": "execute_result"
    }
   ],
   "source": [
    "dfs.head()"
   ]
  },
  {
   "cell_type": "code",
   "execution_count": 21,
   "id": "a02c5c5e",
   "metadata": {},
   "outputs": [
    {
     "data": {
      "text/html": [
       "<div>\n",
       "<style scoped>\n",
       "    .dataframe tbody tr th:only-of-type {\n",
       "        vertical-align: middle;\n",
       "    }\n",
       "\n",
       "    .dataframe tbody tr th {\n",
       "        vertical-align: top;\n",
       "    }\n",
       "\n",
       "    .dataframe thead th {\n",
       "        text-align: right;\n",
       "    }\n",
       "</style>\n",
       "<table border=\"1\" class=\"dataframe\">\n",
       "  <thead>\n",
       "    <tr style=\"text-align: right;\">\n",
       "      <th></th>\n",
       "      <th>year_month</th>\n",
       "      <th>Etsy</th>\n",
       "      <th>Shopify</th>\n",
       "    </tr>\n",
       "  </thead>\n",
       "  <tbody>\n",
       "    <tr>\n",
       "      <th>0</th>\n",
       "      <td>2014-12</td>\n",
       "      <td>8.48</td>\n",
       "      <td>0.0</td>\n",
       "    </tr>\n",
       "    <tr>\n",
       "      <th>1</th>\n",
       "      <td>2015-02</td>\n",
       "      <td>16.96</td>\n",
       "      <td>0.0</td>\n",
       "    </tr>\n",
       "    <tr>\n",
       "      <th>2</th>\n",
       "      <td>2015-03</td>\n",
       "      <td>84.55</td>\n",
       "      <td>0.0</td>\n",
       "    </tr>\n",
       "    <tr>\n",
       "      <th>3</th>\n",
       "      <td>2015-04</td>\n",
       "      <td>54.04</td>\n",
       "      <td>0.0</td>\n",
       "    </tr>\n",
       "    <tr>\n",
       "      <th>4</th>\n",
       "      <td>2015-05</td>\n",
       "      <td>73.16</td>\n",
       "      <td>0.0</td>\n",
       "    </tr>\n",
       "    <tr>\n",
       "      <th>...</th>\n",
       "      <td>...</td>\n",
       "      <td>...</td>\n",
       "      <td>...</td>\n",
       "    </tr>\n",
       "    <tr>\n",
       "      <th>80</th>\n",
       "      <td>2021-09</td>\n",
       "      <td>625.58</td>\n",
       "      <td>610.0</td>\n",
       "    </tr>\n",
       "    <tr>\n",
       "      <th>81</th>\n",
       "      <td>2021-10</td>\n",
       "      <td>815.33</td>\n",
       "      <td>380.6</td>\n",
       "    </tr>\n",
       "    <tr>\n",
       "      <th>82</th>\n",
       "      <td>2021-11</td>\n",
       "      <td>658.62</td>\n",
       "      <td>381.4</td>\n",
       "    </tr>\n",
       "    <tr>\n",
       "      <th>83</th>\n",
       "      <td>2021-12</td>\n",
       "      <td>471.35</td>\n",
       "      <td>196.0</td>\n",
       "    </tr>\n",
       "    <tr>\n",
       "      <th>84</th>\n",
       "      <td>2022-01</td>\n",
       "      <td>746.64</td>\n",
       "      <td>688.0</td>\n",
       "    </tr>\n",
       "  </tbody>\n",
       "</table>\n",
       "<p>85 rows × 3 columns</p>\n",
       "</div>"
      ],
      "text/plain": [
       "   year_month    Etsy  Shopify\n",
       "0     2014-12    8.48      0.0\n",
       "1     2015-02   16.96      0.0\n",
       "2     2015-03   84.55      0.0\n",
       "3     2015-04   54.04      0.0\n",
       "4     2015-05   73.16      0.0\n",
       "..        ...     ...      ...\n",
       "80    2021-09  625.58    610.0\n",
       "81    2021-10  815.33    380.6\n",
       "82    2021-11  658.62    381.4\n",
       "83    2021-12  471.35    196.0\n",
       "84    2022-01  746.64    688.0\n",
       "\n",
       "[85 rows x 3 columns]"
      ]
     },
     "execution_count": 21,
     "metadata": {},
     "output_type": "execute_result"
    }
   ],
   "source": [
    "sales = pd.merge(dfe, dfs, on='year_month', how='left')\n",
    "sales['Shopify'] = sales['Shopify'].fillna(0)\n",
    "sales"
   ]
  },
  {
   "cell_type": "code",
   "execution_count": 24,
   "id": "16ab7365",
   "metadata": {},
   "outputs": [
    {
     "data": {
      "text/plain": [
       "Text(0.5, 1.0, 'PDF Sales')"
      ]
     },
     "execution_count": 24,
     "metadata": {},
     "output_type": "execute_result"
    },
    {
     "data": {
      "image/png": "[encoded data removed]",
      "text/plain": [
       "<Figure size 1440x360 with 1 Axes>"
      ]
     },
     "metadata": {
      "needs_background": "light"
     },
     "output_type": "display_data"
    }
   ],
   "source": [
    "fig, ax = plt.subplots(figsize=(20,5))\n",
    "ax.bar(sales.year_month, sales['Etsy'], label='Etsy')\n",
    "ax.bar(sales.year_month, sales['Shopify'], bottom=sales['Etsy'], label='Shopify')\n",
    "ax.legend()\n",
    "x = [12 * x + 1 for x in range(0, 8)]\n",
    "labels = [str(x) for x in range(2015, 2023)]\n",
    "plt.xticks(x, labels)\n",
    "plt.title('PDF Sales')"
   ]
  }
 ],
 "metadata": {
  "kernelspec": {
   "display_name": "Python 3 (ipykernel)",
   "language": "python",
   "name": "python3"
  },
  "language_info": {
   "codemirror_mode": {
    "name": "ipython",
    "version": 3
   },
   "file_extension": ".py",
   "mimetype": "text/x-python",
   "name": "python",
   "nbconvert_exporter": "python",
   "pygments_lexer": "ipython3",
   "version": "3.9.9"
  }
 },
 "nbformat": 4,
 "nbformat_minor": 5
}
