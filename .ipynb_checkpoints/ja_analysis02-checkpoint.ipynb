{
 "cells": [
  {
   "cell_type": "markdown",
   "id": "236f4d3b",
   "metadata": {},
   "source": [
    "# Sales Analysis for JillyAtlanta\n",
    "\n",
    "***\n",
    "***\n"
   ]
  },
  {
   "cell_type": "code",
   "execution_count": 1,
   "id": "e8b3bd8a",
   "metadata": {},
   "outputs": [],
   "source": [
    "import pandas as pd\n",
    "import glob"
   ]
  },
  {
   "cell_type": "markdown",
   "id": "ff23278a",
   "metadata": {},
   "source": [
    "***\n",
    "## Etsy"
   ]
  },
  {
   "cell_type": "markdown",
   "id": "9b32e32d",
   "metadata": {},
   "source": [
    "### Get data"
   ]
  },
  {
   "cell_type": "code",
   "execution_count": 2,
   "id": "0c4ce1c5",
   "metadata": {},
   "outputs": [],
   "source": [
    "fiels = glob.glob('./etsy/EtsySales/*.csv')\n",
    "df = pd.DataFrame()\n",
    "for fiel in fiels:\n",
    "    dfi = pd.read_csv(fiel)\n",
    "    df = pd.concat([df, dfi])\n",
    "#df.columns"
   ]
  },
  {
   "cell_type": "markdown",
   "id": "c19a7024",
   "metadata": {},
   "source": [
    "Get columns of interest and sort on date"
   ]
  },
  {
   "cell_type": "code",
   "execution_count": 3,
   "id": "1e068685",
   "metadata": {},
   "outputs": [
    {
     "data": {
      "text/html": [
       "<div>\n",
       "<style scoped>\n",
       "    .dataframe tbody tr th:only-of-type {\n",
       "        vertical-align: middle;\n",
       "    }\n",
       "\n",
       "    .dataframe tbody tr th {\n",
       "        vertical-align: top;\n",
       "    }\n",
       "\n",
       "    .dataframe thead th {\n",
       "        text-align: right;\n",
       "    }\n",
       "</style>\n",
       "<table border=\"1\" class=\"dataframe\">\n",
       "  <thead>\n",
       "    <tr style=\"text-align: right;\">\n",
       "      <th></th>\n",
       "      <th>order_date</th>\n",
       "      <th>payment_id</th>\n",
       "      <th>order_id</th>\n",
       "      <th>net_amount</th>\n",
       "      <th>refund_amount</th>\n",
       "    </tr>\n",
       "  </thead>\n",
       "  <tbody>\n",
       "    <tr>\n",
       "      <th>0</th>\n",
       "      <td>2014-06-16</td>\n",
       "      <td>1295448890</td>\n",
       "      <td>144656004</td>\n",
       "      <td>56.01</td>\n",
       "      <td>0.0</td>\n",
       "    </tr>\n",
       "    <tr>\n",
       "      <th>1</th>\n",
       "      <td>2014-08-30</td>\n",
       "      <td>1466282130</td>\n",
       "      <td>155967399</td>\n",
       "      <td>96.75</td>\n",
       "      <td>8.0</td>\n",
       "    </tr>\n",
       "    <tr>\n",
       "      <th>2</th>\n",
       "      <td>2014-08-31</td>\n",
       "      <td>1470057511</td>\n",
       "      <td>156150920</td>\n",
       "      <td>44.37</td>\n",
       "      <td>6.0</td>\n",
       "    </tr>\n",
       "    <tr>\n",
       "      <th>3</th>\n",
       "      <td>2014-09-02</td>\n",
       "      <td>1474639907</td>\n",
       "      <td>156470823</td>\n",
       "      <td>90.93</td>\n",
       "      <td>0.0</td>\n",
       "    </tr>\n",
       "    <tr>\n",
       "      <th>4</th>\n",
       "      <td>2014-09-26</td>\n",
       "      <td>1537809068</td>\n",
       "      <td>160466268</td>\n",
       "      <td>44.37</td>\n",
       "      <td>6.0</td>\n",
       "    </tr>\n",
       "  </tbody>\n",
       "</table>\n",
       "</div>"
      ],
      "text/plain": [
       "  order_date  payment_id   order_id  net_amount  refund_amount\n",
       "0 2014-06-16  1295448890  144656004       56.01            0.0\n",
       "1 2014-08-30  1466282130  155967399       96.75            8.0\n",
       "2 2014-08-31  1470057511  156150920       44.37            6.0\n",
       "3 2014-09-02  1474639907  156470823       90.93            0.0\n",
       "4 2014-09-26  1537809068  160466268       44.37            6.0"
      ]
     },
     "execution_count": 3,
     "metadata": {},
     "output_type": "execute_result"
    }
   ],
   "source": [
    "df = df[['Order Date', \n",
    "         'Payment ID', \n",
    "         'Order ID',\n",
    "         'Net Amount',\n",
    "         'Refund Amount']]\n",
    "df.columns = ['order_date', 'payment_id', 'order_id', 'net_amount', 'refund_amount']\n",
    "df['order_date'] = pd.to_datetime(df['order_date'])\n",
    "df.sort_values(by='order_date', inplace=True)\n",
    "df.head()"
   ]
  },
  {
   "cell_type": "markdown",
   "id": "edb38635",
   "metadata": {},
   "source": [
    "To determine which orders are PDFs, we have to go to another report, _Order Items_"
   ]
  },
  {
   "cell_type": "code",
   "execution_count": 4,
   "id": "89c3e8ee",
   "metadata": {},
   "outputs": [],
   "source": [
    "fiels = glob.glob('./etsy/EtsySoldOrderItems/*.csv')\n",
    "dfx = pd.DataFrame()\n",
    "for fiel in fiels:\n",
    "    dfi = pd.read_csv(fiel)\n",
    "    dfx = pd.concat([dfx, dfi])\n",
    "#df.columns"
   ]
  },
  {
   "cell_type": "code",
   "execution_count": 5,
   "id": "e771e313",
   "metadata": {},
   "outputs": [
    {
     "data": {
      "text/html": [
       "<div>\n",
       "<style scoped>\n",
       "    .dataframe tbody tr th:only-of-type {\n",
       "        vertical-align: middle;\n",
       "    }\n",
       "\n",
       "    .dataframe tbody tr th {\n",
       "        vertical-align: top;\n",
       "    }\n",
       "\n",
       "    .dataframe thead th {\n",
       "        text-align: right;\n",
       "    }\n",
       "</style>\n",
       "<table border=\"1\" class=\"dataframe\">\n",
       "  <thead>\n",
       "    <tr style=\"text-align: right;\">\n",
       "      <th></th>\n",
       "      <th>order_date</th>\n",
       "      <th>item_id</th>\n",
       "      <th>order_id</th>\n",
       "      <th>net_amount</th>\n",
       "    </tr>\n",
       "  </thead>\n",
       "  <tbody>\n",
       "    <tr>\n",
       "      <th>23</th>\n",
       "      <td>2014-06-16</td>\n",
       "      <td>Garden Skirt</td>\n",
       "      <td>144656004</td>\n",
       "      <td>58.0</td>\n",
       "    </tr>\n",
       "    <tr>\n",
       "      <th>22</th>\n",
       "      <td>2014-08-30</td>\n",
       "      <td>Reserved Listing: girl organic shorts, blue or...</td>\n",
       "      <td>155967399</td>\n",
       "      <td>46.0</td>\n",
       "    </tr>\n",
       "    <tr>\n",
       "      <th>21</th>\n",
       "      <td>2014-08-30</td>\n",
       "      <td>Custom order--Size 12/14</td>\n",
       "      <td>155967399</td>\n",
       "      <td>54.0</td>\n",
       "    </tr>\n",
       "    <tr>\n",
       "      <th>20</th>\n",
       "      <td>2014-08-31</td>\n",
       "      <td>Reserved Listing:  girls shorts, organic chamb...</td>\n",
       "      <td>156150920</td>\n",
       "      <td>46.0</td>\n",
       "    </tr>\n",
       "    <tr>\n",
       "      <th>19</th>\n",
       "      <td>2014-09-02</td>\n",
       "      <td>Reserved Listing: girl top, organic cotton, ye...</td>\n",
       "      <td>156470823</td>\n",
       "      <td>54.0</td>\n",
       "    </tr>\n",
       "  </tbody>\n",
       "</table>\n",
       "</div>"
      ],
      "text/plain": [
       "   order_date                                            item_id   order_id  \\\n",
       "23 2014-06-16                                       Garden Skirt  144656004   \n",
       "22 2014-08-30  Reserved Listing: girl organic shorts, blue or...  155967399   \n",
       "21 2014-08-30                           Custom order--Size 12/14  155967399   \n",
       "20 2014-08-31  Reserved Listing:  girls shorts, organic chamb...  156150920   \n",
       "19 2014-09-02  Reserved Listing: girl top, organic cotton, ye...  156470823   \n",
       "\n",
       "    net_amount  \n",
       "23        58.0  \n",
       "22        46.0  \n",
       "21        54.0  \n",
       "20        46.0  \n",
       "19        54.0  "
      ]
     },
     "execution_count": 5,
     "metadata": {},
     "output_type": "execute_result"
    }
   ],
   "source": [
    "dfx = dfx[['Sale Date', \n",
    "         'Item Name', \n",
    "         'Order ID',\n",
    "         'Item Total']]\n",
    "dfx.columns = ['order_date', 'item_id', 'order_id', 'net_amount']\n",
    "dfx['order_date'] = pd.to_datetime(dfx['order_date'])\n",
    "dfx.sort_values(by='order_date', inplace=True)\n",
    "dfx.head()"
   ]
  },
  {
   "cell_type": "code",
   "execution_count": null,
   "id": "21cc0382",
   "metadata": {},
   "outputs": [],
   "source": []
  }
 ],
 "metadata": {
  "kernelspec": {
   "display_name": "Python 3 (ipykernel)",
   "language": "python",
   "name": "python3"
  },
  "language_info": {
   "codemirror_mode": {
    "name": "ipython",
    "version": 3
   },
   "file_extension": ".py",
   "mimetype": "text/x-python",
   "name": "python",
   "nbconvert_exporter": "python",
   "pygments_lexer": "ipython3",
   "version": "3.9.9"
  }
 },
 "nbformat": 4,
 "nbformat_minor": 5
}
