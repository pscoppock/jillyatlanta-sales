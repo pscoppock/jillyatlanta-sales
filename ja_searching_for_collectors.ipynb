{
 "cells": [
  {
   "cell_type": "markdown",
   "id": "4f133e6a",
   "metadata": {},
   "source": [
    "# JillyAtlanta Sales Analysis\n",
    "Searching for Collectors\n",
    "***"
   ]
  },
  {
   "cell_type": "markdown",
   "id": "24ca1367",
   "metadata": {},
   "source": [
    "## Table of Contents\n",
    "\n",
    "* [Gather and Preprocess Data](#gather_pp)\n",
    "    * [Make Etsy Dataframe](#etsy_df)\n",
    "    * [Make Shopify Dataframe](#shopify_df)\n",
    "* [Graph](#sales_vs_month)\n",
    "    * [How Many Customers have Bought N Patterns? (Etsy)](#cust_vs_npatt_et)\n",
    "    * [How Many Customers have Bought N Patterns? (Shopify)](#cust_vs_npatt_sh)\n",
    "* [Who are the Collectors?](#who_are_they)\n",
    "***"
   ]
  },
  {
   "cell_type": "markdown",
   "id": "19f50a88",
   "metadata": {},
   "source": [
    "### Gather and Preprocess Data <a class=\"anchor\" id=\"gather_pp\"></a>"
   ]
  },
  {
   "cell_type": "code",
   "execution_count": 1,
   "id": "d24fba59",
   "metadata": {},
   "outputs": [],
   "source": [
    "import pandas as pd\n",
    "import glob\n",
    "from datetime import datetime\n",
    "import numpy as np\n",
    "from matplotlib import pyplot as plt"
   ]
  },
  {
   "cell_type": "markdown",
   "id": "48a44223",
   "metadata": {},
   "source": [
    "We have sales data from two sources, Etsy (www.etsy.com/market/jillyatlanta) and Shopify (https://jillyatlanta.com).\n",
    "\n",
    "We gather data from both sites, clean up and collate."
   ]
  },
  {
   "cell_type": "markdown",
   "id": "6f63b961",
   "metadata": {},
   "source": [
    "#### Etsy Dataframe <a class=\"anchor\" id=\"etsy_df\"></a>"
   ]
  },
  {
   "cell_type": "markdown",
   "id": "79f10162",
   "metadata": {},
   "source": [
    "<a class=\"anchor\" id=\"order_items_df\"></a>\n",
    "Get data that includes date, order_id, and item name.  We will be matching item names to item type so we can isolate PDF sales. "
   ]
  },
  {
   "cell_type": "code",
   "execution_count": 2,
   "id": "d898b16f",
   "metadata": {},
   "outputs": [],
   "source": [
    "fiels = glob.glob('./etsy/EtsySoldOrderItems/*.csv')\n",
    "df = pd.DataFrame()\n",
    "for fiel in fiels:\n",
    "    dfi = pd.read_csv(fiel)\n",
    "    df = pd.concat([df, dfi])\n",
    "#print(df.head())\n",
    "df = df[['Sale Date', 'Item Name', 'Buyer', 'Quantity']]\n",
    "df.rename(columns = {'Sale Date':'date', 'Item Name':'item_name',\n",
    "                              'Buyer':'buyer', 'Quantity':'quantity'}, inplace = True)\n",
    "#df.head()"
   ]
  },
  {
   "cell_type": "markdown",
   "id": "a06c106d",
   "metadata": {},
   "source": [
    "Make a list of all items that are PDFs."
   ]
  },
  {
   "cell_type": "code",
   "execution_count": 3,
   "id": "177d1a3e",
   "metadata": {},
   "outputs": [],
   "source": [
    "listings = pd.read_csv('listings_names.csv')\n",
    "listings = listings[listings.PDF != 0]\n",
    "pdfs = [x.strip(\"\\\" '\") for x in listings.item_title.values]\n",
    "for each in pdfs:\n",
    "    if 'pdf'.casefold() in each.casefold(): pass\n",
    "    else: \n",
    "        print(each)\n",
    "        1/0\n",
    "#len(pdfs)"
   ]
  },
  {
   "cell_type": "markdown",
   "id": "5bf38f6c",
   "metadata": {},
   "source": [
    "* Identify if an item is PDF or not.\n",
    "* Change format of dates, so we can group by month and sort."
   ]
  },
  {
   "cell_type": "code",
   "execution_count": 4,
   "id": "e68e9d4b",
   "metadata": {
    "scrolled": true
   },
   "outputs": [],
   "source": [
    "def is_pdf(item_name):\n",
    "    return item_name in pdfs\n",
    "\n",
    "def fix_date(d):\n",
    "    '''\n",
    "    '12/29/14' to '2014-12'\n",
    "    '''\n",
    "    x = d.split('/')\n",
    "    dd = '20' + x[2] + '-' + x[0]\n",
    "    return dd\n",
    "\n",
    "df['pdf'] = df['item_name'].apply(is_pdf)\n",
    "df['date'] = df['date'].apply(fix_date)\n",
    "df.sort_values(by='date', inplace=True)\n",
    "#df.head()"
   ]
  },
  {
   "cell_type": "markdown",
   "id": "6e191bae",
   "metadata": {},
   "source": [
    "Get rid of all sales that were not PDFs"
   ]
  },
  {
   "cell_type": "code",
   "execution_count": 5,
   "id": "77c3ee0c",
   "metadata": {},
   "outputs": [],
   "source": [
    "df = df[df.pdf == True]\n",
    "#df.head()"
   ]
  },
  {
   "cell_type": "markdown",
   "id": "683f4350",
   "metadata": {},
   "source": [
    "Group by buyer, and sort by number of patterns in descending order."
   ]
  },
  {
   "cell_type": "code",
   "execution_count": 6,
   "id": "1d0c6a83",
   "metadata": {},
   "outputs": [],
   "source": [
    "df2 = df.groupby('buyer').sum('quantity').reset_index()\n",
    "df2.sort_values(by='quantity', inplace=True, ascending=False )\n",
    "dfe = df2\n",
    "#dfe.head(50)"
   ]
  },
  {
   "cell_type": "markdown",
   "id": "cd0b58f1",
   "metadata": {},
   "source": [
    "N Customers vs. N Patterns, Etsy<a class=\"anchor\" id=\"cust_vs_npatt_et\"></a>"
   ]
  },
  {
   "cell_type": "code",
   "execution_count": 7,
   "id": "da10c55d",
   "metadata": {},
   "outputs": [
    {
     "data": {
      "image/png": "[encoded data removed]",
      "text/plain": [
       "<Figure size 432x288 with 1 Axes>"
      ]
     },
     "metadata": {
      "needs_background": "light"
     },
     "output_type": "display_data"
    }
   ],
   "source": [
    "x, y, xp, yp = [], [], [], []\n",
    "vals = sorted(list(df2.quantity.unique()))\n",
    "#print(vals)\n",
    "for val in vals:\n",
    "    x.append(val)\n",
    "    y.append(df2['quantity'].value_counts()[val])\n",
    "for i in range(1, max(x)+1):\n",
    "    if i in x:\n",
    "        xp.append(i)\n",
    "        yp.append(y[x.index(i)])\n",
    "    else:\n",
    "        xp.append(i)\n",
    "        yp.append(0)\n",
    "#for i in range(len(xp)):\n",
    "#    print(xp[i], yp[i])\n",
    "#print(xp, yp)\n",
    "plt.grid(True, zorder=0, which='both', axis='y', linestyle='--')\n",
    "plt.bar(xp, yp, zorder=3)\n",
    "plt.yscale('log')\n",
    "plt.xlabel('Number of Patterns')\n",
    "plt.ylabel('Number of Customers')\n",
    "plt.title('How Many Customers have Bought $\\it{N}$ Patterns?')\n",
    "plt.show()"
   ]
  },
  {
   "cell_type": "markdown",
   "id": "dca65da6",
   "metadata": {},
   "source": [
    "#### Shopify Dataframe <a class=\"anchor\" id=\"shopify_df\"></a>"
   ]
  },
  {
   "cell_type": "markdown",
   "id": "b6edfe43",
   "metadata": {},
   "source": [
    "Get data that includes dates and total sales.  Refunds are aleady accounted for with these data."
   ]
  },
  {
   "cell_type": "code",
   "execution_count": 20,
   "id": "01dc5356",
   "metadata": {
    "scrolled": true
   },
   "outputs": [],
   "source": [
    "df = pd.read_csv('./shopify/sales_per_customer.csv')\n",
    "#df.head()"
   ]
  },
  {
   "cell_type": "code",
   "execution_count": 21,
   "id": "2f719914",
   "metadata": {},
   "outputs": [],
   "source": [
    "df2 = df.groupby('customer_name').sum('net_quantity').reset_index()\n",
    "df2.sort_values(by='net_quantity', inplace=True, ascending=False)\n",
    "dfs = df2\n",
    "#dfs.head()"
   ]
  },
  {
   "cell_type": "markdown",
   "id": "7e989507",
   "metadata": {},
   "source": [
    "N Customers vs. N Patterns, Shopify<a class=\"anchor\" id=\"cust_vs_npatt_sh\"></a>"
   ]
  },
  {
   "cell_type": "code",
   "execution_count": 10,
   "id": "c356db51",
   "metadata": {},
   "outputs": [
    {
     "name": "stdout",
     "output_type": "stream",
     "text": [
      "[1, 2, 3, 4, 5, 6, 7, 8, 9, 10, 11, 12, 14, 22]\n"
     ]
    },
    {
     "data": {
      "image/png": "[encoded data removed]",
      "text/plain": [
       "<Figure size 432x288 with 1 Axes>"
      ]
     },
     "metadata": {
      "needs_background": "light"
     },
     "output_type": "display_data"
    }
   ],
   "source": [
    "x, y, xp, yp = [], [], [], []\n",
    "vals = sorted(list(df2.net_quantity.unique()))\n",
    "print(vals)\n",
    "for val in vals:\n",
    "    x.append(val)\n",
    "    y.append(df2['net_quantity'].value_counts()[val])\n",
    "for i in range(1, max(x)+1):\n",
    "    if i in x:\n",
    "        xp.append(i)\n",
    "        yp.append(y[x.index(i)])\n",
    "    else:\n",
    "        xp.append(i)\n",
    "        yp.append(0)\n",
    "#for i in range(len(xp)):\n",
    "#    print(xp[i], yp[i])\n",
    "#print(xp, yp)\n",
    "plt.grid(True, zorder=0, which='both', axis='y', linestyle='--')\n",
    "plt.bar(xp, yp, zorder=3)\n",
    "plt.yscale('log')\n",
    "plt.xlabel('Number of Patterns')\n",
    "plt.ylabel('Number of Customers')\n",
    "plt.title('How Many Customers have Bought $\\it{N}$ Patterns?')\n",
    "plt.show()"
   ]
  },
  {
   "cell_type": "markdown",
   "id": "f8c77a01",
   "metadata": {},
   "source": [
    "Who are they?  Etsy <a class=\"anchor\" id=\"who_are_they\"></a>"
   ]
  },
  {
   "cell_type": "code",
   "execution_count": 11,
   "id": "adfab789",
   "metadata": {},
   "outputs": [],
   "source": [
    "df = dfe\n",
    "buyers = []\n",
    "df['Collector'] = True\n",
    "df.loc[df['quantity'] < 10, 'Collector'] = False\n",
    "#df.head()"
   ]
  },
  {
   "cell_type": "code",
   "execution_count": 12,
   "id": "cad0c3b6",
   "metadata": {},
   "outputs": [],
   "source": [
    "df1 = df[df.Collector == True]\n",
    "collectors_dict_et = dict(zip(df1.buyer, df1.quantity))\n",
    "#print(collectors_dict_et)"
   ]
  },
  {
   "cell_type": "code",
   "execution_count": 22,
   "id": "6c5c198e",
   "metadata": {},
   "outputs": [],
   "source": [
    "df = dfs\n",
    "buyers = []\n",
    "df['Collector'] = True\n",
    "df.loc[df['net_quantity'] < 10, 'Collector'] = False\n",
    "#dfs.head()"
   ]
  },
  {
   "cell_type": "code",
   "execution_count": 23,
   "id": "b859e834",
   "metadata": {},
   "outputs": [],
   "source": [
    "df1 = df[df.Collector == True]\n",
    "collectors_dict_sh = dict(zip(df1.customer_name, df1.net_quantity))\n",
    "#print(collectors_dict_sh)"
   ]
  },
  {
   "cell_type": "markdown",
   "id": "f16933fd",
   "metadata": {},
   "source": [
    "***\n",
    "## Try to match Etsy buyers to Shopify buyers"
   ]
  },
  {
   "cell_type": "code",
   "execution_count": 15,
   "id": "980a1b93",
   "metadata": {},
   "outputs": [
    {
     "name": "stdout",
     "output_type": "stream",
     "text": [
      "7598\n"
     ]
    }
   ],
   "source": [
    "etsy_buyers = list(dfe.buyer.values)\n",
    "print(len(etsy_buyers))"
   ]
  },
  {
   "cell_type": "code",
   "execution_count": 16,
   "id": "4a76d93e",
   "metadata": {},
   "outputs": [
    {
     "name": "stdout",
     "output_type": "stream",
     "text": [
      "1918\n"
     ]
    }
   ],
   "source": [
    "dfs.head()\n",
    "shopify_buyers = list(dfs.customer_name.values)\n",
    "print(len(shopify_buyers))"
   ]
  },
  {
   "cell_type": "code",
   "execution_count": 17,
   "id": "b9671d5a",
   "metadata": {},
   "outputs": [],
   "source": [
    "buyers_common_etsy = []\n",
    "buyers_common_shopify = []\n",
    "\n",
    "for each in etsy_buyers:\n",
    "    for every in shopify_buyers:\n",
    "        x = each.split()\n",
    "        y = every.split()\n",
    "        xy = [a for a in x if a in y]\n",
    "        if len(xy) > 1:\n",
    "            buyers_common_etsy.append(each)\n",
    "            buyers_common_shopify.append(every)"
   ]
  },
  {
   "cell_type": "code",
   "execution_count": 18,
   "id": "e681dbd9",
   "metadata": {},
   "outputs": [
    {
     "data": {
      "text/plain": [
       "(296, 4)"
      ]
     },
     "execution_count": 18,
     "metadata": {},
     "output_type": "execute_result"
    }
   ],
   "source": [
    "dfe_common = dfe.loc[dfe['buyer'].isin(buyers_common_etsy)]\n",
    "dfe_common.shape"
   ]
  },
  {
   "cell_type": "code",
   "execution_count": 19,
   "id": "a70e750a",
   "metadata": {},
   "outputs": [
    {
     "data": {
      "text/plain": [
       "(306, 5)"
      ]
     },
     "execution_count": 19,
     "metadata": {},
     "output_type": "execute_result"
    }
   ],
   "source": [
    "dfs_common = dfs.loc[dfs['customer_name'].isin(buyers_common_shopify)]\n",
    "dfs_common.shape"
   ]
  }
 ],
 "metadata": {
  "kernelspec": {
   "display_name": "Python 3 (ipykernel)",
   "language": "python",
   "name": "python3"
  },
  "language_info": {
   "codemirror_mode": {
    "name": "ipython",
    "version": 3
   },
   "file_extension": ".py",
   "mimetype": "text/x-python",
   "name": "python",
   "nbconvert_exporter": "python",
   "pygments_lexer": "ipython3",
   "version": "3.9.9"
  }
 },
 "nbformat": 4,
 "nbformat_minor": 5
}
