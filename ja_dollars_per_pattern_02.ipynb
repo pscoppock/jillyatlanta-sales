{
 "cells": [
  {
   "cell_type": "markdown",
   "id": "4f133e6a",
   "metadata": {},
   "source": [
    "# JillyAtlanta Sales Analysis\n",
    "Dollars per PDF over time\n",
    "***"
   ]
  },
  {
   "cell_type": "code",
   "execution_count": 1,
   "id": "d24fba59",
   "metadata": {},
   "outputs": [],
   "source": [
    "import pandas as pd\n",
    "import numpy as np\n",
    "import glob\n",
    "from matplotlib import pyplot as plt"
   ]
  },
  {
   "cell_type": "code",
   "execution_count": 2,
   "id": "d898b16f",
   "metadata": {},
   "outputs": [],
   "source": [
    "fiels = glob.glob('./etsy/EtsySoldOrderItems/*.csv')\n",
    "df1 = pd.DataFrame()\n",
    "for fiel in fiels:\n",
    "    dfi = pd.read_csv(fiel)\n",
    "    df1 = pd.concat([df1, dfi])\n",
    "# df1.columns"
   ]
  },
  {
   "cell_type": "code",
   "execution_count": 3,
   "id": "acb64f2d",
   "metadata": {},
   "outputs": [],
   "source": [
    "et_items = df1[['Sale Date',\n",
    "           'Order ID', \n",
    "           'Item Name']].copy()\n",
    "et_items.columns = ['date', 'order_id', 'item_name']\n",
    "et_items['date'] = pd.to_datetime(et_items['date'])\n",
    "et_items.sort_values(by='date', inplace=True)\n",
    "# et_items.head()"
   ]
  },
  {
   "cell_type": "code",
   "execution_count": 4,
   "id": "cc1e67c4",
   "metadata": {},
   "outputs": [],
   "source": [
    "def is_pdf(x):\n",
    "    return 'pdf' in x.casefold()\n",
    "\n",
    "et_items['is_pdf'] = et_items.item_name.apply(is_pdf)"
   ]
  },
  {
   "cell_type": "code",
   "execution_count": 5,
   "id": "1067c913",
   "metadata": {},
   "outputs": [],
   "source": [
    "# et_items.head()\n",
    "# len(et_items)"
   ]
  },
  {
   "cell_type": "code",
   "execution_count": 6,
   "id": "dec3c965",
   "metadata": {},
   "outputs": [],
   "source": [
    "et_items.drop_duplicates(subset=['order_id'], inplace=True)\n",
    "#et_items.head(30)\n",
    "# len(et_items)"
   ]
  },
  {
   "cell_type": "code",
   "execution_count": 7,
   "id": "8cd6da19",
   "metadata": {},
   "outputs": [],
   "source": [
    "fiels = glob.glob('./etsy/EtsySales/*.csv')\n",
    "df2 = pd.DataFrame()\n",
    "for fiel in fiels:\n",
    "    dfi = pd.read_csv(fiel)\n",
    "    df2 = pd.concat([df2, dfi])\n",
    "# df2.columns"
   ]
  },
  {
   "cell_type": "code",
   "execution_count": 8,
   "id": "a7bd236d",
   "metadata": {},
   "outputs": [
    {
     "data": {
      "text/plain": [
       "12124"
      ]
     },
     "execution_count": 8,
     "metadata": {},
     "output_type": "execute_result"
    }
   ],
   "source": [
    "et_sales = df2[['Order Date',\n",
    "                'Order ID', \n",
    "                'Net Amount', \n",
    "                'Refund Amount']].copy()\n",
    "et_sales.columns = ['date', 'order_id', 'payment_amt', 'refund_amt']\n",
    "et_sales['date'] = pd.to_datetime(et_sales['date'])\n",
    "et_sales.sort_values(by='date', inplace=True)\n",
    "et_sales.head()\n",
    "len(et_sales)"
   ]
  },
  {
   "cell_type": "code",
   "execution_count": 9,
   "id": "7aebbe23",
   "metadata": {},
   "outputs": [
    {
     "data": {
      "text/plain": [
       "12124"
      ]
     },
     "execution_count": 9,
     "metadata": {},
     "output_type": "execute_result"
    }
   ],
   "source": [
    "et_merged = pd.merge(et_sales, et_items, on='order_id', how='left')\n",
    "et_merged.head(30)\n",
    "len(et_merged)"
   ]
  },
  {
   "cell_type": "code",
   "execution_count": 10,
   "id": "1cc95957",
   "metadata": {},
   "outputs": [
    {
     "name": "stdout",
     "output_type": "stream",
     "text": [
      "12124\n",
      "11781\n"
     ]
    }
   ],
   "source": [
    "print(len(et_merged))\n",
    "et_merged = et_merged[et_merged.is_pdf == True]\n",
    "print(len(et_merged))\n",
    "et_merged['net_amt'] = et_merged['payment_amt'] - et_merged['refund_amt']\n",
    "#et_merged.head()"
   ]
  },
  {
   "cell_type": "code",
   "execution_count": 11,
   "id": "b358f6f1",
   "metadata": {},
   "outputs": [],
   "source": [
    "#listings = et_merged.item_name.drop_duplicates()\n",
    "#len(listings)"
   ]
  },
  {
   "cell_type": "code",
   "execution_count": 12,
   "id": "b1e6e8b9",
   "metadata": {},
   "outputs": [],
   "source": [
    "listings = pd.read_csv('listings.csv')\n",
    "listings_dict = dict(zip(listings.listing.values, listings.item.values))"
   ]
  },
  {
   "cell_type": "code",
   "execution_count": 13,
   "id": "cec9ee5d",
   "metadata": {},
   "outputs": [],
   "source": [
    "# gapminder_df['pop']= gapminder_df['continent'].map(pop_dict)"
   ]
  },
  {
   "cell_type": "code",
   "execution_count": 14,
   "id": "0b159b94",
   "metadata": {},
   "outputs": [
    {
     "data": {
      "text/html": [
       "<div>\n",
       "<style scoped>\n",
       "    .dataframe tbody tr th:only-of-type {\n",
       "        vertical-align: middle;\n",
       "    }\n",
       "\n",
       "    .dataframe tbody tr th {\n",
       "        vertical-align: top;\n",
       "    }\n",
       "\n",
       "    .dataframe thead th {\n",
       "        text-align: right;\n",
       "    }\n",
       "</style>\n",
       "<table border=\"1\" class=\"dataframe\">\n",
       "  <thead>\n",
       "    <tr style=\"text-align: right;\">\n",
       "      <th></th>\n",
       "      <th>date</th>\n",
       "      <th>item</th>\n",
       "      <th>net</th>\n",
       "    </tr>\n",
       "  </thead>\n",
       "  <tbody>\n",
       "    <tr>\n",
       "      <th>11</th>\n",
       "      <td>2014-12-06</td>\n",
       "      <td>gathered_skirt</td>\n",
       "      <td>8.48</td>\n",
       "    </tr>\n",
       "    <tr>\n",
       "      <th>16</th>\n",
       "      <td>2015-02-07</td>\n",
       "      <td>criss_cross_cape</td>\n",
       "      <td>8.48</td>\n",
       "    </tr>\n",
       "    <tr>\n",
       "      <th>19</th>\n",
       "      <td>2015-02-19</td>\n",
       "      <td>criss_cross_cape</td>\n",
       "      <td>8.48</td>\n",
       "    </tr>\n",
       "    <tr>\n",
       "      <th>23</th>\n",
       "      <td>2015-03-02</td>\n",
       "      <td>criss_cross_cape</td>\n",
       "      <td>8.48</td>\n",
       "    </tr>\n",
       "    <tr>\n",
       "      <th>25</th>\n",
       "      <td>2015-03-06</td>\n",
       "      <td>lottie_bonnet</td>\n",
       "      <td>5.57</td>\n",
       "    </tr>\n",
       "  </tbody>\n",
       "</table>\n",
       "</div>"
      ],
      "text/plain": [
       "         date              item   net\n",
       "11 2014-12-06    gathered_skirt  8.48\n",
       "16 2015-02-07  criss_cross_cape  8.48\n",
       "19 2015-02-19  criss_cross_cape  8.48\n",
       "23 2015-03-02  criss_cross_cape  8.48\n",
       "25 2015-03-06     lottie_bonnet  5.57"
      ]
     },
     "execution_count": 14,
     "metadata": {},
     "output_type": "execute_result"
    }
   ],
   "source": [
    "et_merged['item'] = et_merged['item_name'].map(listings_dict)\n",
    "et = et_merged[['date_x', 'item', 'net_amt']].copy()\n",
    "et.columns = ['date', 'item', 'net']\n",
    "et.head()"
   ]
  },
  {
   "cell_type": "code",
   "execution_count": 15,
   "id": "a2b2f52a",
   "metadata": {},
   "outputs": [
    {
     "name": "stdout",
     "output_type": "stream",
     "text": [
      "[1, 2, 2, 2, 3, 3, 3, 3, 3, 3]\n",
      "[8.48, 16.96, 25.44, 33.92, 39.49, 45.06, 50.63, 56.2, 64.68, 73.16000000000001]\n"
     ]
    }
   ],
   "source": [
    "patterns_set = set()\n",
    "patterns = list(et.item.values)\n",
    "nets = list(et.net.values)\n",
    "\n",
    "num_patterns = []\n",
    "pattern_Count = 0\n",
    "for pattern in patterns:\n",
    "    if pattern not in patterns_set:\n",
    "        patterns_set.add(pattern)\n",
    "        pattern_Count += 1\n",
    "    num_patterns.append(pattern_Count)\n",
    "\n",
    "net_total = []\n",
    "net_sum = 0\n",
    "for net in nets:\n",
    "    net_sum += net\n",
    "    net_total.append(net_sum)\n",
    "\n",
    "print(num_patterns[:10])\n",
    "print(net_total[:10])\n",
    "\n",
    "doll_per_patt = np.array(net_total) / np.array(num_patterns)"
   ]
  },
  {
   "cell_type": "code",
   "execution_count": 16,
   "id": "726bbd4f",
   "metadata": {},
   "outputs": [
    {
     "data": {
      "text/html": [
       "<div>\n",
       "<style scoped>\n",
       "    .dataframe tbody tr th:only-of-type {\n",
       "        vertical-align: middle;\n",
       "    }\n",
       "\n",
       "    .dataframe tbody tr th {\n",
       "        vertical-align: top;\n",
       "    }\n",
       "\n",
       "    .dataframe thead th {\n",
       "        text-align: right;\n",
       "    }\n",
       "</style>\n",
       "<table border=\"1\" class=\"dataframe\">\n",
       "  <thead>\n",
       "    <tr style=\"text-align: right;\">\n",
       "      <th></th>\n",
       "      <th>date</th>\n",
       "      <th>item</th>\n",
       "      <th>net</th>\n",
       "      <th>num_patterns</th>\n",
       "      <th>net_sum</th>\n",
       "      <th>dollars_per_pattern</th>\n",
       "    </tr>\n",
       "  </thead>\n",
       "  <tbody>\n",
       "    <tr>\n",
       "      <th>11</th>\n",
       "      <td>2014-12-06</td>\n",
       "      <td>gathered_skirt</td>\n",
       "      <td>8.48</td>\n",
       "      <td>1</td>\n",
       "      <td>8.48</td>\n",
       "      <td>8.480000</td>\n",
       "    </tr>\n",
       "    <tr>\n",
       "      <th>16</th>\n",
       "      <td>2015-02-07</td>\n",
       "      <td>criss_cross_cape</td>\n",
       "      <td>8.48</td>\n",
       "      <td>2</td>\n",
       "      <td>16.96</td>\n",
       "      <td>8.480000</td>\n",
       "    </tr>\n",
       "    <tr>\n",
       "      <th>19</th>\n",
       "      <td>2015-02-19</td>\n",
       "      <td>criss_cross_cape</td>\n",
       "      <td>8.48</td>\n",
       "      <td>2</td>\n",
       "      <td>25.44</td>\n",
       "      <td>12.720000</td>\n",
       "    </tr>\n",
       "    <tr>\n",
       "      <th>23</th>\n",
       "      <td>2015-03-02</td>\n",
       "      <td>criss_cross_cape</td>\n",
       "      <td>8.48</td>\n",
       "      <td>2</td>\n",
       "      <td>33.92</td>\n",
       "      <td>16.960000</td>\n",
       "    </tr>\n",
       "    <tr>\n",
       "      <th>25</th>\n",
       "      <td>2015-03-06</td>\n",
       "      <td>lottie_bonnet</td>\n",
       "      <td>5.57</td>\n",
       "      <td>3</td>\n",
       "      <td>39.49</td>\n",
       "      <td>13.163333</td>\n",
       "    </tr>\n",
       "  </tbody>\n",
       "</table>\n",
       "</div>"
      ],
      "text/plain": [
       "         date              item   net  num_patterns  net_sum  \\\n",
       "11 2014-12-06    gathered_skirt  8.48             1     8.48   \n",
       "16 2015-02-07  criss_cross_cape  8.48             2    16.96   \n",
       "19 2015-02-19  criss_cross_cape  8.48             2    25.44   \n",
       "23 2015-03-02  criss_cross_cape  8.48             2    33.92   \n",
       "25 2015-03-06     lottie_bonnet  5.57             3    39.49   \n",
       "\n",
       "    dollars_per_pattern  \n",
       "11             8.480000  \n",
       "16             8.480000  \n",
       "19            12.720000  \n",
       "23            16.960000  \n",
       "25            13.163333  "
      ]
     },
     "execution_count": 16,
     "metadata": {},
     "output_type": "execute_result"
    }
   ],
   "source": [
    "et['num_patterns'] = num_patterns\n",
    "et['net_sum'] = net_total\n",
    "et['dollars_per_pattern'] = doll_per_patt\n",
    "et.head()"
   ]
  },
  {
   "cell_type": "code",
   "execution_count": 21,
   "id": "6c94c155",
   "metadata": {},
   "outputs": [
    {
     "data": {
      "text/plain": [
       "Text(0.5, 1.0, 'Dollars per Pattern over Time')"
      ]
     },
     "execution_count": 21,
     "metadata": {},
     "output_type": "execute_result"
    },
    {
     "data": {
      "image/png": "[encoded data removed]",
      "text/plain": [
       "<Figure size 432x288 with 1 Axes>"
      ]
     },
     "metadata": {
      "needs_background": "light"
     },
     "output_type": "display_data"
    }
   ],
   "source": [
    "plt.plot(et.date, et.dollars_per_pattern)\n",
    "plt.xlabel('Year')\n",
    "plt.ylabel('Dollars per Pattern')\n",
    "plt.title('Dollars per Pattern over Time')"
   ]
  },
  {
   "cell_type": "code",
   "execution_count": null,
   "id": "397bf680",
   "metadata": {},
   "outputs": [],
   "source": []
  },
  {
   "cell_type": "code",
   "execution_count": null,
   "id": "035081c3",
   "metadata": {},
   "outputs": [],
   "source": []
  }
 ],
 "metadata": {
  "kernelspec": {
   "display_name": "Python 3 (ipykernel)",
   "language": "python",
   "name": "python3"
  },
  "language_info": {
   "codemirror_mode": {
    "name": "ipython",
    "version": 3
   },
   "file_extension": ".py",
   "mimetype": "text/x-python",
   "name": "python",
   "nbconvert_exporter": "python",
   "pygments_lexer": "ipython3",
   "version": "3.9.9"
  }
 },
 "nbformat": 4,
 "nbformat_minor": 5
}
