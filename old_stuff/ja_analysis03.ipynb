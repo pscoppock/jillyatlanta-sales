{
 "cells": [
  {
   "cell_type": "markdown",
   "id": "36dec71b",
   "metadata": {},
   "source": [
    "# JillyAtlanta Sales\n",
    "\n",
    "***"
   ]
  },
  {
   "cell_type": "code",
   "execution_count": 1,
   "id": "cb3f300a",
   "metadata": {},
   "outputs": [],
   "source": [
    "import pandas as pd\n",
    "import numpy as np\n",
    "import glob, datetime\n",
    "from matplotlib import pyplot as plt"
   ]
  },
  {
   "cell_type": "markdown",
   "id": "7b1fed79",
   "metadata": {},
   "source": [
    "***\n",
    "## Etsy"
   ]
  },
  {
   "cell_type": "markdown",
   "id": "a66a7407",
   "metadata": {},
   "source": [
    "Get orders, nets, and refunds."
   ]
  },
  {
   "cell_type": "code",
   "execution_count": 2,
   "id": "d2da2697",
   "metadata": {},
   "outputs": [
    {
     "data": {
      "text/html": [
       "<div>\n",
       "<style scoped>\n",
       "    .dataframe tbody tr th:only-of-type {\n",
       "        vertical-align: middle;\n",
       "    }\n",
       "\n",
       "    .dataframe tbody tr th {\n",
       "        vertical-align: top;\n",
       "    }\n",
       "\n",
       "    .dataframe thead th {\n",
       "        text-align: right;\n",
       "    }\n",
       "</style>\n",
       "<table border=\"1\" class=\"dataframe\">\n",
       "  <thead>\n",
       "    <tr style=\"text-align: right;\">\n",
       "      <th></th>\n",
       "      <th>date</th>\n",
       "      <th>order_id</th>\n",
       "      <th>net_amount</th>\n",
       "      <th>refund_amount</th>\n",
       "    </tr>\n",
       "  </thead>\n",
       "  <tbody>\n",
       "    <tr>\n",
       "      <th>0</th>\n",
       "      <td>2014-06-16</td>\n",
       "      <td>144656004</td>\n",
       "      <td>56.01</td>\n",
       "      <td>0.0</td>\n",
       "    </tr>\n",
       "    <tr>\n",
       "      <th>1</th>\n",
       "      <td>2014-08-30</td>\n",
       "      <td>155967399</td>\n",
       "      <td>96.75</td>\n",
       "      <td>8.0</td>\n",
       "    </tr>\n",
       "    <tr>\n",
       "      <th>2</th>\n",
       "      <td>2014-08-31</td>\n",
       "      <td>156150920</td>\n",
       "      <td>44.37</td>\n",
       "      <td>6.0</td>\n",
       "    </tr>\n",
       "    <tr>\n",
       "      <th>3</th>\n",
       "      <td>2014-09-02</td>\n",
       "      <td>156470823</td>\n",
       "      <td>90.93</td>\n",
       "      <td>0.0</td>\n",
       "    </tr>\n",
       "    <tr>\n",
       "      <th>4</th>\n",
       "      <td>2014-09-26</td>\n",
       "      <td>160466268</td>\n",
       "      <td>44.37</td>\n",
       "      <td>6.0</td>\n",
       "    </tr>\n",
       "    <tr>\n",
       "      <th>5</th>\n",
       "      <td>2014-10-15</td>\n",
       "      <td>163749398</td>\n",
       "      <td>50.19</td>\n",
       "      <td>0.0</td>\n",
       "    </tr>\n",
       "    <tr>\n",
       "      <th>6</th>\n",
       "      <td>2014-11-17</td>\n",
       "      <td>169564370</td>\n",
       "      <td>50.19</td>\n",
       "      <td>0.0</td>\n",
       "    </tr>\n",
       "    <tr>\n",
       "      <th>7</th>\n",
       "      <td>2014-11-22</td>\n",
       "      <td>170698208</td>\n",
       "      <td>52.13</td>\n",
       "      <td>0.0</td>\n",
       "    </tr>\n",
       "    <tr>\n",
       "      <th>8</th>\n",
       "      <td>2014-11-28</td>\n",
       "      <td>172266166</td>\n",
       "      <td>52.13</td>\n",
       "      <td>0.0</td>\n",
       "    </tr>\n",
       "    <tr>\n",
       "      <th>9</th>\n",
       "      <td>2014-11-30</td>\n",
       "      <td>172879375</td>\n",
       "      <td>50.19</td>\n",
       "      <td>0.0</td>\n",
       "    </tr>\n",
       "    <tr>\n",
       "      <th>10</th>\n",
       "      <td>2014-12-02</td>\n",
       "      <td>173755680</td>\n",
       "      <td>50.19</td>\n",
       "      <td>0.0</td>\n",
       "    </tr>\n",
       "    <tr>\n",
       "      <th>11</th>\n",
       "      <td>2014-12-06</td>\n",
       "      <td>174935168</td>\n",
       "      <td>8.48</td>\n",
       "      <td>0.0</td>\n",
       "    </tr>\n",
       "    <tr>\n",
       "      <th>12</th>\n",
       "      <td>2014-12-07</td>\n",
       "      <td>175486889</td>\n",
       "      <td>42.43</td>\n",
       "      <td>0.0</td>\n",
       "    </tr>\n",
       "    <tr>\n",
       "      <th>13</th>\n",
       "      <td>2014-12-11</td>\n",
       "      <td>177033295</td>\n",
       "      <td>50.19</td>\n",
       "      <td>0.0</td>\n",
       "    </tr>\n",
       "    <tr>\n",
       "      <th>14</th>\n",
       "      <td>2014-12-29</td>\n",
       "      <td>180720853</td>\n",
       "      <td>50.19</td>\n",
       "      <td>0.0</td>\n",
       "    </tr>\n",
       "    <tr>\n",
       "      <th>0</th>\n",
       "      <td>2015-01-07</td>\n",
       "      <td>182252461</td>\n",
       "      <td>57.95</td>\n",
       "      <td>0.0</td>\n",
       "    </tr>\n",
       "    <tr>\n",
       "      <th>1</th>\n",
       "      <td>2015-02-07</td>\n",
       "      <td>188208165</td>\n",
       "      <td>8.48</td>\n",
       "      <td>0.0</td>\n",
       "    </tr>\n",
       "    <tr>\n",
       "      <th>2</th>\n",
       "      <td>2015-02-15</td>\n",
       "      <td>1000527040</td>\n",
       "      <td>102.57</td>\n",
       "      <td>7.5</td>\n",
       "    </tr>\n",
       "    <tr>\n",
       "      <th>3</th>\n",
       "      <td>2015-02-15</td>\n",
       "      <td>1000539816</td>\n",
       "      <td>56.01</td>\n",
       "      <td>0.0</td>\n",
       "    </tr>\n",
       "    <tr>\n",
       "      <th>4</th>\n",
       "      <td>2015-02-19</td>\n",
       "      <td>1001158565</td>\n",
       "      <td>8.48</td>\n",
       "      <td>0.0</td>\n",
       "    </tr>\n",
       "  </tbody>\n",
       "</table>\n",
       "</div>"
      ],
      "text/plain": [
       "         date    order_id  net_amount  refund_amount\n",
       "0  2014-06-16   144656004       56.01            0.0\n",
       "1  2014-08-30   155967399       96.75            8.0\n",
       "2  2014-08-31   156150920       44.37            6.0\n",
       "3  2014-09-02   156470823       90.93            0.0\n",
       "4  2014-09-26   160466268       44.37            6.0\n",
       "5  2014-10-15   163749398       50.19            0.0\n",
       "6  2014-11-17   169564370       50.19            0.0\n",
       "7  2014-11-22   170698208       52.13            0.0\n",
       "8  2014-11-28   172266166       52.13            0.0\n",
       "9  2014-11-30   172879375       50.19            0.0\n",
       "10 2014-12-02   173755680       50.19            0.0\n",
       "11 2014-12-06   174935168        8.48            0.0\n",
       "12 2014-12-07   175486889       42.43            0.0\n",
       "13 2014-12-11   177033295       50.19            0.0\n",
       "14 2014-12-29   180720853       50.19            0.0\n",
       "0  2015-01-07   182252461       57.95            0.0\n",
       "1  2015-02-07   188208165        8.48            0.0\n",
       "2  2015-02-15  1000527040      102.57            7.5\n",
       "3  2015-02-15  1000539816       56.01            0.0\n",
       "4  2015-02-19  1001158565        8.48            0.0"
      ]
     },
     "execution_count": 2,
     "metadata": {},
     "output_type": "execute_result"
    }
   ],
   "source": [
    "fiels = glob.glob('./etsy/EtsySales/*.csv')\n",
    "df1 = pd.DataFrame()\n",
    "for fiel in fiels:\n",
    "    dfi = pd.read_csv(fiel)\n",
    "    df1 = pd.concat([df1, dfi])\n",
    "df1 = df1[['Order Date', \n",
    "           'Order ID', \n",
    "           'Net Amount', \n",
    "           'Refund Amount']]\n",
    "df1.columns = ['date', 'order_id', 'net_amount', 'refund_amount']\n",
    "df1['date'] = pd.to_datetime(df1['date'])\n",
    "df1.sort_values(by='date', inplace=True)\n",
    "df1.head(20)"
   ]
  },
  {
   "cell_type": "markdown",
   "id": "333ba031",
   "metadata": {},
   "source": [
    "Get order_id sales items."
   ]
  },
  {
   "cell_type": "code",
   "execution_count": 3,
   "id": "0cb5451b",
   "metadata": {},
   "outputs": [],
   "source": [
    "fiels = glob.glob('./etsy/EtsySoldOrderItems/*.csv')\n",
    "df2 = pd.DataFrame()\n",
    "for fiel in fiels:\n",
    "    dfi = pd.read_csv(fiel)\n",
    "    df2 = pd.concat([df2, dfi])\n",
    "#df2.head(20)"
   ]
  },
  {
   "cell_type": "markdown",
   "id": "399236c4",
   "metadata": {},
   "source": [
    "Get df with date, order_id, and item_name"
   ]
  },
  {
   "cell_type": "code",
   "execution_count": 4,
   "id": "7c5687d9",
   "metadata": {},
   "outputs": [
    {
     "data": {
      "text/html": [
       "<div>\n",
       "<style scoped>\n",
       "    .dataframe tbody tr th:only-of-type {\n",
       "        vertical-align: middle;\n",
       "    }\n",
       "\n",
       "    .dataframe tbody tr th {\n",
       "        vertical-align: top;\n",
       "    }\n",
       "\n",
       "    .dataframe thead th {\n",
       "        text-align: right;\n",
       "    }\n",
       "</style>\n",
       "<table border=\"1\" class=\"dataframe\">\n",
       "  <thead>\n",
       "    <tr style=\"text-align: right;\">\n",
       "      <th></th>\n",
       "      <th>date</th>\n",
       "      <th>order_id</th>\n",
       "      <th>item_name</th>\n",
       "    </tr>\n",
       "  </thead>\n",
       "  <tbody>\n",
       "    <tr>\n",
       "      <th>23</th>\n",
       "      <td>2014-06-16</td>\n",
       "      <td>144656004</td>\n",
       "      <td>Garden Skirt</td>\n",
       "    </tr>\n",
       "    <tr>\n",
       "      <th>22</th>\n",
       "      <td>2014-08-30</td>\n",
       "      <td>155967399</td>\n",
       "      <td>Reserved Listing: girl organic shorts, blue or...</td>\n",
       "    </tr>\n",
       "    <tr>\n",
       "      <th>21</th>\n",
       "      <td>2014-08-30</td>\n",
       "      <td>155967399</td>\n",
       "      <td>Custom order--Size 12/14</td>\n",
       "    </tr>\n",
       "    <tr>\n",
       "      <th>20</th>\n",
       "      <td>2014-08-31</td>\n",
       "      <td>156150920</td>\n",
       "      <td>Reserved Listing:  girls shorts, organic chamb...</td>\n",
       "    </tr>\n",
       "    <tr>\n",
       "      <th>19</th>\n",
       "      <td>2014-09-02</td>\n",
       "      <td>156470823</td>\n",
       "      <td>Reserved Listing: girl top, organic cotton, ye...</td>\n",
       "    </tr>\n",
       "    <tr>\n",
       "      <th>18</th>\n",
       "      <td>2014-09-02</td>\n",
       "      <td>156470823</td>\n",
       "      <td>Reserved Listing: organic cotton twill, pink s...</td>\n",
       "    </tr>\n",
       "    <tr>\n",
       "      <th>17</th>\n",
       "      <td>2014-09-26</td>\n",
       "      <td>160466268</td>\n",
       "      <td>Reserved Listing: Girl Organic Shorts, cotton ...</td>\n",
       "    </tr>\n",
       "    <tr>\n",
       "      <th>16</th>\n",
       "      <td>2014-10-15</td>\n",
       "      <td>163749398</td>\n",
       "      <td>Girl Holiday Skirt, sequined girl skirt,knee l...</td>\n",
       "    </tr>\n",
       "    <tr>\n",
       "      <th>15</th>\n",
       "      <td>2014-11-17</td>\n",
       "      <td>169564370</td>\n",
       "      <td>Girl Holiday Skirt,sequined girl skirt,knee le...</td>\n",
       "    </tr>\n",
       "    <tr>\n",
       "      <th>13</th>\n",
       "      <td>2014-11-19</td>\n",
       "      <td>170065489</td>\n",
       "      <td>Girl Holiday Skirt,sequined girl skirt,knee le...</td>\n",
       "    </tr>\n",
       "    <tr>\n",
       "      <th>14</th>\n",
       "      <td>2014-11-19</td>\n",
       "      <td>170061651</td>\n",
       "      <td>Custom Listing for Kris, girl blouse, cotton v...</td>\n",
       "    </tr>\n",
       "    <tr>\n",
       "      <th>12</th>\n",
       "      <td>2014-11-22</td>\n",
       "      <td>170698208</td>\n",
       "      <td>Baby girl romper, first birthday girl, infant ...</td>\n",
       "    </tr>\n",
       "    <tr>\n",
       "      <th>11</th>\n",
       "      <td>2014-11-22</td>\n",
       "      <td>170860503</td>\n",
       "      <td>Girl Holiday Skirt,sequined girl skirt,knee le...</td>\n",
       "    </tr>\n",
       "    <tr>\n",
       "      <th>10</th>\n",
       "      <td>2014-11-23</td>\n",
       "      <td>170920054</td>\n",
       "      <td>Girl Skirt Pattern, PDF sewing pattern,easy pa...</td>\n",
       "    </tr>\n",
       "    <tr>\n",
       "      <th>9</th>\n",
       "      <td>2014-11-28</td>\n",
       "      <td>172266166</td>\n",
       "      <td>Girl Blouse,girl polka dot top,ivory girl top,...</td>\n",
       "    </tr>\n",
       "    <tr>\n",
       "      <th>8</th>\n",
       "      <td>2014-11-29</td>\n",
       "      <td>172555262</td>\n",
       "      <td>Girl Holiday Skirt,sequined girl skirt,knee le...</td>\n",
       "    </tr>\n",
       "    <tr>\n",
       "      <th>7</th>\n",
       "      <td>2014-11-30</td>\n",
       "      <td>172879375</td>\n",
       "      <td>Girl Holiday Skirt, turquoise skirt, blue sequ...</td>\n",
       "    </tr>\n",
       "    <tr>\n",
       "      <th>6</th>\n",
       "      <td>2014-12-02</td>\n",
       "      <td>173647358</td>\n",
       "      <td>Girl Tutu, girl tulle skirt, ballerina skirt, ...</td>\n",
       "    </tr>\n",
       "    <tr>\n",
       "      <th>5</th>\n",
       "      <td>2014-12-02</td>\n",
       "      <td>173755680</td>\n",
       "      <td>Girl Holiday Skirt,sequined girl skirt,knee le...</td>\n",
       "    </tr>\n",
       "    <tr>\n",
       "      <th>4</th>\n",
       "      <td>2014-12-06</td>\n",
       "      <td>174935168</td>\n",
       "      <td>Girl Skirt Pattern, PDF sewing pattern,easy pa...</td>\n",
       "    </tr>\n",
       "  </tbody>\n",
       "</table>\n",
       "</div>"
      ],
      "text/plain": [
       "         date   order_id                                          item_name\n",
       "23 2014-06-16  144656004                                       Garden Skirt\n",
       "22 2014-08-30  155967399  Reserved Listing: girl organic shorts, blue or...\n",
       "21 2014-08-30  155967399                           Custom order--Size 12/14\n",
       "20 2014-08-31  156150920  Reserved Listing:  girls shorts, organic chamb...\n",
       "19 2014-09-02  156470823  Reserved Listing: girl top, organic cotton, ye...\n",
       "18 2014-09-02  156470823  Reserved Listing: organic cotton twill, pink s...\n",
       "17 2014-09-26  160466268  Reserved Listing: Girl Organic Shorts, cotton ...\n",
       "16 2014-10-15  163749398  Girl Holiday Skirt, sequined girl skirt,knee l...\n",
       "15 2014-11-17  169564370  Girl Holiday Skirt,sequined girl skirt,knee le...\n",
       "13 2014-11-19  170065489  Girl Holiday Skirt,sequined girl skirt,knee le...\n",
       "14 2014-11-19  170061651  Custom Listing for Kris, girl blouse, cotton v...\n",
       "12 2014-11-22  170698208  Baby girl romper, first birthday girl, infant ...\n",
       "11 2014-11-22  170860503  Girl Holiday Skirt,sequined girl skirt,knee le...\n",
       "10 2014-11-23  170920054  Girl Skirt Pattern, PDF sewing pattern,easy pa...\n",
       "9  2014-11-28  172266166  Girl Blouse,girl polka dot top,ivory girl top,...\n",
       "8  2014-11-29  172555262  Girl Holiday Skirt,sequined girl skirt,knee le...\n",
       "7  2014-11-30  172879375  Girl Holiday Skirt, turquoise skirt, blue sequ...\n",
       "6  2014-12-02  173647358  Girl Tutu, girl tulle skirt, ballerina skirt, ...\n",
       "5  2014-12-02  173755680  Girl Holiday Skirt,sequined girl skirt,knee le...\n",
       "4  2014-12-06  174935168  Girl Skirt Pattern, PDF sewing pattern,easy pa..."
      ]
     },
     "execution_count": 4,
     "metadata": {},
     "output_type": "execute_result"
    }
   ],
   "source": [
    "df2 = df2[['Sale Date',\n",
    "           'Order ID', \n",
    "           'Item Name']]\n",
    "df2.columns = ['date', 'order_id', 'item_name']\n",
    "df2['date'] = pd.to_datetime(df2['date'])\n",
    "df2.sort_values(by='date', inplace=True)\n",
    "#df2.reset_index()\n",
    "df2.head(20)"
   ]
  },
  {
   "cell_type": "markdown",
   "id": "d669e6a8",
   "metadata": {},
   "source": [
    "Identify item_name as PDF or not.  First, make a list of all the PDF listings."
   ]
  },
  {
   "cell_type": "code",
   "execution_count": 5,
   "id": "12683ae2",
   "metadata": {},
   "outputs": [],
   "source": [
    "listings = pd.read_csv('listings_names.csv')\n",
    "listings = listings[listings.PDF != 0]\n",
    "listings.head()\n",
    "pdfs = [x.strip(\"\\\" '\") for x in listings.item_title.values]\n",
    "for each in pdfs:\n",
    "    if 'pdf'.casefold() in each.casefold(): pass\n",
    "    else: \n",
    "        print(each)\n",
    "        1/0\n",
    "#len(pdfs)"
   ]
  },
  {
   "cell_type": "markdown",
   "id": "41f65dd2",
   "metadata": {},
   "source": [
    "Then, in df2, add a column 'is_pdf' = False (not a pdf) or True (pdf).  Once this is done, remove column with item_name.  Finally, remove duplicate columns."
   ]
  },
  {
   "cell_type": "code",
   "execution_count": 6,
   "id": "1d54ce6b",
   "metadata": {},
   "outputs": [],
   "source": [
    "def is_pdf(item_name):\n",
    "    return item_name in pdfs\n",
    "\n",
    "df2['pdf'] = df2['item_name'].apply(is_pdf)\n",
    "df2 = df2[['order_id', 'pdf']]\n",
    "df2.drop_duplicates(inplace=True)\n",
    "df2.sort_values(by='order_id', inplace=True)\n",
    "#df2.head()\n",
    "#df2.tail()"
   ]
  },
  {
   "cell_type": "markdown",
   "id": "330d8957",
   "metadata": {},
   "source": [
    "Merge df1 and df2 to give dataframe of all sales.  Then remove sales that were not pdfs."
   ]
  },
  {
   "cell_type": "code",
   "execution_count": 7,
   "id": "7e0945e9",
   "metadata": {},
   "outputs": [
    {
     "name": "stdout",
     "output_type": "stream",
     "text": [
      "11921\n",
      "11921\n"
     ]
    }
   ],
   "source": [
    "df3 = pd.merge(df1, df2, on='order_id', how='outer')\n",
    "df3 = df3[df3.pdf == True]\n",
    "print(len(df3.index))\n",
    "df3.dropna()\n",
    "print(len(df3.index))\n",
    "#df3.tail()"
   ]
  },
  {
   "cell_type": "code",
   "execution_count": null,
   "id": "13904e57",
   "metadata": {},
   "outputs": [],
   "source": []
  },
  {
   "cell_type": "code",
   "execution_count": 8,
   "id": "52d2dd0b",
   "metadata": {},
   "outputs": [],
   "source": [
    "df3 = df3.dropna(axis=0)\n",
    "#df3.tail()"
   ]
  },
  {
   "cell_type": "code",
   "execution_count": 9,
   "id": "8a8f1e0c",
   "metadata": {},
   "outputs": [],
   "source": [
    "df3['year_month'] = df3['date'].dt.to_period('M')\n",
    "df3['sales'] = df3['net_amount'] - df3['refund_amount']\n",
    "#df3.head()"
   ]
  },
  {
   "cell_type": "code",
   "execution_count": 10,
   "id": "c8c82088",
   "metadata": {},
   "outputs": [],
   "source": [
    "df4 = df3[['year_month', 'sales']]\n",
    "#df4.tail()"
   ]
  },
  {
   "cell_type": "code",
   "execution_count": 11,
   "id": "62726799",
   "metadata": {},
   "outputs": [],
   "source": [
    "df5 = df4.groupby('year_month').sum().reset_index()\n",
    "#df5.head()"
   ]
  },
  {
   "cell_type": "code",
   "execution_count": 12,
   "id": "f5cfcca4",
   "metadata": {},
   "outputs": [
    {
     "data": {
      "text/plain": [
       "year_month    datetime64[ns]\n",
       "sales                float64\n",
       "dtype: object"
      ]
     },
     "execution_count": 12,
     "metadata": {},
     "output_type": "execute_result"
    }
   ],
   "source": [
    "df5['year_month'] = df5.year_month.values.astype('datetime64[M]')\n",
    "df5.dtypes"
   ]
  },
  {
   "cell_type": "code",
   "execution_count": 13,
   "id": "fa732c07",
   "metadata": {},
   "outputs": [
    {
     "ename": "AttributeError",
     "evalue": "type object 'datetime.datetime' has no attribute 'str'",
     "output_type": "error",
     "traceback": [
      "\u001b[0;31m---------------------------------------------------------------------------\u001b[0m",
      "\u001b[0;31mAttributeError\u001b[0m                            Traceback (most recent call last)",
      "\u001b[0;32m/var/folders/mk/4nnjf_g10hx79nq9srkfnybr0000gp/T/ipykernel_32686/2646761657.py\u001b[0m in \u001b[0;36m<module>\u001b[0;34m\u001b[0m\n\u001b[0;32m----> 1\u001b[0;31m \u001b[0mdates\u001b[0m \u001b[0;34m=\u001b[0m \u001b[0;34m[\u001b[0m\u001b[0mdatetime\u001b[0m\u001b[0;34m.\u001b[0m\u001b[0mdatetime\u001b[0m\u001b[0;34m.\u001b[0m\u001b[0mstr\u001b[0m\u001b[0;34m(\u001b[0m\u001b[0mx\u001b[0m\u001b[0;34m)\u001b[0m \u001b[0;32mfor\u001b[0m \u001b[0mx\u001b[0m \u001b[0;32min\u001b[0m \u001b[0mlist\u001b[0m\u001b[0;34m(\u001b[0m\u001b[0mdf5\u001b[0m\u001b[0;34m[\u001b[0m\u001b[0;34m'year_month'\u001b[0m\u001b[0;34m]\u001b[0m\u001b[0;34m)\u001b[0m\u001b[0;34m]\u001b[0m\u001b[0;34m\u001b[0m\u001b[0;34m\u001b[0m\u001b[0m\n\u001b[0m\u001b[1;32m      2\u001b[0m \u001b[0msales_etsy\u001b[0m \u001b[0;34m=\u001b[0m \u001b[0mlist\u001b[0m\u001b[0;34m(\u001b[0m\u001b[0mdf5\u001b[0m\u001b[0;34m[\u001b[0m\u001b[0;34m'sales'\u001b[0m\u001b[0;34m]\u001b[0m\u001b[0;34m)\u001b[0m\u001b[0;34m\u001b[0m\u001b[0;34m\u001b[0m\u001b[0m\n\u001b[1;32m      3\u001b[0m \u001b[0;34m\u001b[0m\u001b[0m\n\u001b[1;32m      4\u001b[0m \u001b[0mplt\u001b[0m\u001b[0;34m.\u001b[0m\u001b[0mfigure\u001b[0m\u001b[0;34m(\u001b[0m\u001b[0mfigsize\u001b[0m\u001b[0;34m=\u001b[0m\u001b[0;34m(\u001b[0m\u001b[0;36m20\u001b[0m\u001b[0;34m,\u001b[0m\u001b[0;36m4\u001b[0m\u001b[0;34m)\u001b[0m\u001b[0;34m)\u001b[0m\u001b[0;34m\u001b[0m\u001b[0;34m\u001b[0m\u001b[0m\n\u001b[1;32m      5\u001b[0m \u001b[0;34m\u001b[0m\u001b[0m\n",
      "\u001b[0;32m/var/folders/mk/4nnjf_g10hx79nq9srkfnybr0000gp/T/ipykernel_32686/2646761657.py\u001b[0m in \u001b[0;36m<listcomp>\u001b[0;34m(.0)\u001b[0m\n\u001b[0;32m----> 1\u001b[0;31m \u001b[0mdates\u001b[0m \u001b[0;34m=\u001b[0m \u001b[0;34m[\u001b[0m\u001b[0mdatetime\u001b[0m\u001b[0;34m.\u001b[0m\u001b[0mdatetime\u001b[0m\u001b[0;34m.\u001b[0m\u001b[0mstr\u001b[0m\u001b[0;34m(\u001b[0m\u001b[0mx\u001b[0m\u001b[0;34m)\u001b[0m \u001b[0;32mfor\u001b[0m \u001b[0mx\u001b[0m \u001b[0;32min\u001b[0m \u001b[0mlist\u001b[0m\u001b[0;34m(\u001b[0m\u001b[0mdf5\u001b[0m\u001b[0;34m[\u001b[0m\u001b[0;34m'year_month'\u001b[0m\u001b[0;34m]\u001b[0m\u001b[0;34m)\u001b[0m\u001b[0;34m]\u001b[0m\u001b[0;34m\u001b[0m\u001b[0;34m\u001b[0m\u001b[0m\n\u001b[0m\u001b[1;32m      2\u001b[0m \u001b[0msales_etsy\u001b[0m \u001b[0;34m=\u001b[0m \u001b[0mlist\u001b[0m\u001b[0;34m(\u001b[0m\u001b[0mdf5\u001b[0m\u001b[0;34m[\u001b[0m\u001b[0;34m'sales'\u001b[0m\u001b[0;34m]\u001b[0m\u001b[0;34m)\u001b[0m\u001b[0;34m\u001b[0m\u001b[0;34m\u001b[0m\u001b[0m\n\u001b[1;32m      3\u001b[0m \u001b[0;34m\u001b[0m\u001b[0m\n\u001b[1;32m      4\u001b[0m \u001b[0mplt\u001b[0m\u001b[0;34m.\u001b[0m\u001b[0mfigure\u001b[0m\u001b[0;34m(\u001b[0m\u001b[0mfigsize\u001b[0m\u001b[0;34m=\u001b[0m\u001b[0;34m(\u001b[0m\u001b[0;36m20\u001b[0m\u001b[0;34m,\u001b[0m\u001b[0;36m4\u001b[0m\u001b[0;34m)\u001b[0m\u001b[0;34m)\u001b[0m\u001b[0;34m\u001b[0m\u001b[0;34m\u001b[0m\u001b[0m\n\u001b[1;32m      5\u001b[0m \u001b[0;34m\u001b[0m\u001b[0m\n",
      "\u001b[0;31mAttributeError\u001b[0m: type object 'datetime.datetime' has no attribute 'str'"
     ]
    }
   ],
   "source": [
    "dates = [datetime.datetime.str(x) for x in list(df5['year_month'])]\n",
    "sales_etsy = list(df5['sales'])\n",
    "\n",
    "plt.figure(figsize=(20,4))\n",
    "\n",
    "plt.bar(dates, sales_etsy)\n",
    "ax = plt.gca() # grab the current axis\n",
    "#ax.set_xticks([1, 13, 25, 37, 49, 61, 73, 85]) # choose which x locations to have ticks\n",
    "#ax.set_xticklabels = ['2015', '2016', '2017', '2018', '2019', '2020', '2021', '2022'] # set the labels to display at those ticks\n",
    "\n",
    "max_value = dates.max()\n",
    "min_value = dates.min()\n",
    "number_of_steps = 12\n",
    "l = np.arange(min_value, max_value+1, number_of_steps)\n",
    "\n",
    "ax.set(xticks=l, xticklabels=l)\n",
    "plt.show()"
   ]
  },
  {
   "cell_type": "code",
   "execution_count": null,
   "id": "8b1b0033",
   "metadata": {},
   "outputs": [],
   "source": [
    "names = ['group_a', 'group_b', 'group_c']\n",
    "values = [1, 10, 100]\n",
    "\n",
    "plt.figure(figsize=(9, 3))\n",
    "\n",
    "plt.subplot(131)\n",
    "plt.bar(names, values)\n",
    "plt.subplot(132)\n",
    "plt.scatter(names, values)\n",
    "plt.subplot(133)\n",
    "plt.plot(names, values)\n",
    "plt.suptitle('Categorical Plotting')\n",
    "plt.show()\n",
    "\n",
    "plt.clf()\n",
    "plt.plot(x,y,'o-')\n",
    "ax = plt.gca() # grab the current axis\n",
    "ax.set_xticks([1,2,3]) # choose which x locations to have ticks\n",
    "ax.set_xticklabels([1,\"key point\",2]) # set the labels to display at those ticks"
   ]
  },
  {
   "cell_type": "markdown",
   "id": "1b32510c",
   "metadata": {},
   "source": [
    "***\n",
    "## Shopify"
   ]
  },
  {
   "cell_type": "markdown",
   "id": "b744194f",
   "metadata": {},
   "source": [
    "Get Shopify sales data."
   ]
  },
  {
   "cell_type": "code",
   "execution_count": null,
   "id": "781d6a26",
   "metadata": {},
   "outputs": [],
   "source": [
    "df2 = pd.read_csv('./shopify/sales.csv')\n",
    "#df.head()"
   ]
  },
  {
   "cell_type": "markdown",
   "id": "8052aa14",
   "metadata": {},
   "source": [
    "Get rid of records of days that have no sales."
   ]
  },
  {
   "cell_type": "code",
   "execution_count": null,
   "id": "1bb13fb7",
   "metadata": {},
   "outputs": [],
   "source": [
    "df2 = df2.dropna(axis=0)\n",
    "#df.head()"
   ]
  },
  {
   "cell_type": "markdown",
   "id": "4604d976",
   "metadata": {},
   "source": [
    "Garner columns of interest."
   ]
  },
  {
   "cell_type": "code",
   "execution_count": null,
   "id": "6a5a8e7f",
   "metadata": {},
   "outputs": [],
   "source": [
    "df2 = df2[['day', 'net_sales']]"
   ]
  },
  {
   "cell_type": "markdown",
   "id": "03627283",
   "metadata": {},
   "source": [
    "Rename columns to match Etsy dataframe."
   ]
  },
  {
   "cell_type": "code",
   "execution_count": null,
   "id": "2a5c05ab",
   "metadata": {},
   "outputs": [],
   "source": [
    "df2.columns = ['date', 'sales']\n",
    "df2.head()"
   ]
  },
  {
   "cell_type": "markdown",
   "id": "08112799",
   "metadata": {},
   "source": [
    "Change date column to datetime object."
   ]
  },
  {
   "cell_type": "code",
   "execution_count": null,
   "id": "249e47ed",
   "metadata": {},
   "outputs": [],
   "source": [
    "df2['date'] = pd.to_datetime(df2['date'])"
   ]
  },
  {
   "cell_type": "markdown",
   "id": "d40494d6",
   "metadata": {},
   "source": [
    "Reformat dates so we can group and sum."
   ]
  },
  {
   "cell_type": "code",
   "execution_count": null,
   "id": "1fc12587",
   "metadata": {},
   "outputs": [],
   "source": [
    "df2['date'] = df2['date'].dt.to_period('M')\n",
    "df2 = df2.groupby('date').sum().reset_index()\n",
    "df2.head()"
   ]
  },
  {
   "cell_type": "code",
   "execution_count": null,
   "id": "c90eebb8",
   "metadata": {},
   "outputs": [],
   "source": [
    "df2['date'] = df2.date.values.astype('datetime64[M]')\n",
    "#df2.dtypes\n",
    "#print(df2)"
   ]
  },
  {
   "cell_type": "code",
   "execution_count": null,
   "id": "4afb132f",
   "metadata": {},
   "outputs": [],
   "source": [
    "df_shopify = df2\n",
    "dates = [str(x) for x in list(df2['date'])]\n",
    "sales_shopify = list(df2['sales'])\n",
    "plt.figure(figsize=(20,4))\n",
    "plt.bar(dates, sales_shopify)\n",
    "locs, labels = plt.xticks()\n",
    "xticks = ['2021', '2022']\n",
    "new_locs = []\n",
    "i = 9\n",
    "while i <= locs[-1] + 1:\n",
    "    new_locs.append(i)\n",
    "    i += 12\n",
    "print(new_locs)\n",
    "plt.xticks(new_locs, xticks, horizontalalignment='right')\n",
    "type(dates[3])"
   ]
  },
  {
   "cell_type": "markdown",
   "id": "225967c1",
   "metadata": {},
   "source": [
    "***\n",
    "## Combine Etsy and Shopify"
   ]
  },
  {
   "cell_type": "code",
   "execution_count": null,
   "id": "d53bd7f8",
   "metadata": {},
   "outputs": [],
   "source": [
    "df_etsy.columns = ['date', 'sales_etsy']\n",
    "df_shopify.columns = ['date', 'sales_shopify']\n",
    "df_merge = pd.merge(df_etsy, df_shopify, on='date', how='outer')\n",
    "df_merge = df_merge.replace(np.nan,0)\n",
    "df_merge = pd.DataFrame(df_merge)\n",
    "df = pd.DataFrame()\n",
    "df['dates'] = [str(x) for x in list(df_merge['date'])]\n",
    "df['etsy'] = df_merge['sales_etsy']\n",
    "df['shopify'] = df_merge['sales_shopify']\n",
    "df.head()"
   ]
  },
  {
   "cell_type": "code",
   "execution_count": null,
   "id": "43b86156",
   "metadata": {},
   "outputs": [],
   "source": [
    "plt.figure(figsize=(12,4))\n",
    "df.plot(kind='bar', stacked=True)\n",
    "plt.title('JillyAtlanta Sales')"
   ]
  },
  {
   "cell_type": "code",
   "execution_count": null,
   "id": "1d7576fe",
   "metadata": {},
   "outputs": [],
   "source": [
    "plt.bar(df.dates.values, df.etsy.values, color='r')\n",
    "plt.bar(df.dates.values, df.shopify.values, bottom=df.etsy.values, color='b')\n",
    "plt.figure(figsize=(12,4))\n",
    "plt.xlabel('Date')\n",
    "plt.ylabel('Sales')\n",
    "plt.legend(['Etsy', 'Shopify'])\n",
    "plt.title('JillyAtlanta Sales')\n",
    "plt.show()"
   ]
  }
 ],
 "metadata": {
  "kernelspec": {
   "display_name": "Python 3 (ipykernel)",
   "language": "python",
   "name": "python3"
  },
  "language_info": {
   "codemirror_mode": {
    "name": "ipython",
    "version": 3
   },
   "file_extension": ".py",
   "mimetype": "text/x-python",
   "name": "python",
   "nbconvert_exporter": "python",
   "pygments_lexer": "ipython3",
   "version": "3.9.9"
  }
 },
 "nbformat": 4,
 "nbformat_minor": 5
}
